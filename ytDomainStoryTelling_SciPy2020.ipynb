{
 "cells": [
  {
   "cell_type": "markdown",
   "metadata": {},
   "source": [
    "# Using Domain Storytelling to Develop a Context Aware Framework to Support Interdisciplinary Scientific Inquiry in yt\n",
    "\n",
    "- NCSA & iSchool at University of Illinois\n",
    "- yt-project.org\n",
    "- Data-exp-lab.github.io\n",
    "- github.com/yt-project\n",
    "\n",
    "#### Authors: Sam Walkow and Dr. Matthew Turk"
   ]
  },
  {
   "cell_type": "markdown",
   "metadata": {},
   "source": [
    "## Why we're building software for interdiciplinary work\n",
    "\n",
    "There's a lot to choose from when it comes to scientific software.\n",
    "\n",
    "Exponential growth in open source software has diversified the ecosystem but also narrowed the scope of the tools themselves. We see new domain specific tools emerge and existing tools start to stagnate, or disappear completely. Despite overlapping functionality and purpose, open source scientific libraries face difficulty attracting and keeping contributors for exiting tools. Additionally, these essential tools require substantial effort to learn and incorporate into a research workflow; this leads researchers to remain conservative, sticking to what they know. \n",
    "\n",
    "__Often, this means having to change the way we think__\n",
    "\n",
    "<br>\n",
    "<img src=\"images/scientist.png\" align=\"center\" width=\"550\"/>\n",
    "\n",
    "<br>\n",
    "In an effort to both harness and counter this exponential growth, the yt team is building a context aware framework using domain knowledge data gathered using a method called domain storytelling.\n"
   ]
  },
  {
   "cell_type": "markdown",
   "metadata": {},
   "source": [
    "## What's yt?"
   ]
  },
  {
   "cell_type": "markdown",
   "metadata": {},
   "source": [
    "### The Software\n",
    "\n",
    "yt (https://yt-project.org/) is an open source python library designed for scientific analysis and visualization of volumetric data from the physical sciences. Histroically yt was developed for computational astrophysics, but we aim to expand yt's capabilities to support: \n",
    "\n",
    "- __Geophysics__\n",
    "- __Neuroimaging__\n",
    "- __Weather__ \n",
    "- __Climate__\n",
    "- __Oceanography__\n",
    "\n",
    "Here's a yt examples:\n",
    "\n",
    "    Supernova Ignition Simulation\n",
    "    https://arxiv.org/abs/1807.07579\n",
    "    (Evan O’Connor and Sean Couch, MSU)\n",
    "\n",
    "<img src=\"images/ytimage.png\" align=\"left\" width=\"500\"/>\n",
    "\n",
    "<img src=\"images/weatherradar.png\" align=\"right\" width=\"500\"/>"
   ]
  },
  {
   "cell_type": "markdown",
   "metadata": {},
   "source": [
    "                                                                            Predicted Weather Radar from Tornadogenesis Simulation\n",
    "                                                                            Leigh Orf (University of Wisconsin),\n",
    "                                                                            Image Credit: NCSA AVL"
   ]
  },
  {
   "cell_type": "markdown",
   "metadata": {},
   "source": [
    "<br>\n",
    "<img src=\"images/weathermodel.png\" align=\"right\" width=\"530\"/>\n",
    "<img src=\"images/weathermodel2.png\" align=\"right\" width=\"530\"/>\n",
    "<br>"
   ]
  },
  {
   "cell_type": "markdown",
   "metadata": {},
   "source": [
    "            GEOS-5 Global Weather Model visualized with yt using map projections from Cartopy\n",
    "            Madicken Munk, (UIUC)"
   ]
  },
  {
   "cell_type": "markdown",
   "metadata": {},
   "source": [
    "### The Community\n",
    "\n",
    "We're also an active open source developer community, dedicated to consensus-oriented and code-driven discussions and deveolopment made up of 162 contributors with over 27,000 commits mostly in python. \n",
    "\n",
    "The first commit was made in Feburary 2007, and the last commit was made this week. \n",
    "\n",
    "\n",
    "<img src=\"images/ytmeeting.jpg\" align=\"left\" width=\"400\"/>\n",
    "<img src=\"images/ytcommits.png\" align=\"center\" width=\"630\"/>\n",
    "<img src=\"images/ytlanguages.png\" align=\"center\" width=\"250\"/>"
   ]
  },
  {
   "cell_type": "markdown",
   "metadata": {},
   "source": [
    "#### Join us on github: https://github.com/yt-project"
   ]
  },
  {
   "cell_type": "markdown",
   "metadata": {},
   "source": [
    "## How we're going to develop our framework\n",
    "\n",
    "We want to address software sustainability and re-use issues by embedding user and domain context into software tools, and to use yt as a testing platform. We are starting with the domain we know, astronomy, and will extend to other physical science domains. \n",
    "\n",
    "### How can we bring together diverse and already tool-rich scienitifc areas? \n",
    "\n",
    "We believe that are a core set of operations are used across physical science domains. Our goal is to create a new foundation in an already exisiting software, by building this new foundation around common operations, rules and concepts shared across disiplines. \n",
    "\n",
    "Operations of analysis and visualization are often reused across domains, including:\n",
    "- Loading and registering data into a coordinate system\n",
    "- Methods of aggregation\n",
    "- Methods of transformation\n",
    "- Methods of plotting\n",
    "\n",
    "By abstracting physical science analysis and visualization into a series of operations, we can build a shared, robust framework that can reconfigured and repurposed across domains. \n",
    "\n",
    "#### What does this looks like from a technical standpoint?\n",
    "\n",
    "The yt team is implementing a context aware reference framework encoded into a JSON schema organized using natural science domain knowledge. The JSON schema is designed to be a fluid mental model within the software. We chose to use JSON to represent the framework because it allows for a declaraitve programming approach and is a tool agnostic format. This current project is working towards a method for capturing and encoding domain knowledge as relayed by domain experts. \n"
   ]
  },
  {
   "cell_type": "markdown",
   "metadata": {},
   "source": [
    "## Domain Stories\n",
    "\n",
    "To build this schema, domain knowledge including jargon, data analysis tasks, and implicit rules are captured using domain storytelling; a technique that uses pictographs and use cases to illustrate a common workflow. \n",
    "\n",
    "For more information on this method: https://domainstorytelling.org/\n",
    "\n",
    "A domain story is ‘told’ by having a domain scientist either describe or draw each step in their workflow, including interactions with their software tools, the data, and their internal thought process. We are collecting domain stories or use cases to capture two elements: high level workflow steps and underlying code examples to complete those steps. From these use cases, we are identifying data analysis patterns that can be described using a single vocabulary and set of rules, which can be implemented in python and yt. \n",
    "\n",
    "Starting with computational astrophysics domain we…\n",
    "- Capture user workflow and thought process\n",
    "- Identify key steps in analysis \n",
    "- Look for overlapping trends across stories\n",
    "- Extract a common vocabulary and application of concepts\n",
    "- Organize concepts in a computer readable and representation\n",
    "- Mapping user stories to codebase\n",
    "\n",
    "\n"
   ]
  },
  {
   "cell_type": "markdown",
   "metadata": {},
   "source": [
    "### A Domain Story About an Exploding Star"
   ]
  },
  {
   "cell_type": "markdown",
   "metadata": {},
   "source": [
    "<img src=\"images/DomainStoryOneUserDrawing.jpg\" align=\"left\" width=\"450\"/>\n",
    "\n",
    "&emsp; We started each story with general questions about the user workflow, with users drawing out their process. User's defined icons that indicated different features of their work - files, systems, operations, etc. They also indicated using arrows the order of actions.  "
   ]
  },
  {
   "cell_type": "markdown",
   "metadata": {},
   "source": [
    "<img src=\"images/Stardiagram.jpg\" align=\"right\" width=\"500\"/>"
   ]
  },
  {
   "cell_type": "markdown",
   "metadata": {},
   "source": [
    "<img src=\"images/Slice_density_mainseq.gif\" align=\"left\" width=\"500\"/>"
   ]
  },
  {
   "cell_type": "markdown",
   "metadata": {},
   "source": [
    "<img src=\"images/DomainStoryOneDrawIO.png\" align=\"right\" width=\"600\"/>"
   ]
  },
  {
   "cell_type": "markdown",
   "metadata": {},
   "source": [
    "### A Domain Story About the Moon"
   ]
  },
  {
   "cell_type": "markdown",
   "metadata": {},
   "source": [
    "<img src=\"images/DomainStoryTwoUserDrawingCode.jpg\" align=\"left\" width=\"400\"/>"
   ]
  },
  {
   "cell_type": "markdown",
   "metadata": {},
   "source": [
    "<img src=\"images/DomainStoryTwoUserDrawingLoop.jpg\" align=\"right\" width=\"500\"/>"
   ]
  },
  {
   "cell_type": "markdown",
   "metadata": {},
   "source": [
    "### A Domain Story About Star Formation"
   ]
  },
  {
   "cell_type": "markdown",
   "metadata": {},
   "source": [
    "A user drew through workflow over Zoom to illustrate the process, order, and thinking behind their workflow\n",
    "\n",
    "<img src=\"images/DomainStoryThreeZoom.png\" align=\"left\" width=\"500\"/>"
   ]
  },
  {
   "cell_type": "markdown",
   "metadata": {},
   "source": [
    "<img src=\"images/DomainStoryThreeUserDrawing.png\" align=\"right\" width=\"400\"/>\n",
    "\n",
    "They also stressed the importance of the physical nature of the dataset, and how that affected their mental model. "
   ]
  },
  {
   "cell_type": "markdown",
   "metadata": {},
   "source": [
    "After the meeting, I formalized their drawing into visual that will be compared to other domain stories."
   ]
  },
  {
   "cell_type": "markdown",
   "metadata": {},
   "source": [
    "<img src=\"images/DomainStoryThreeDrawingIO.png\" align=\"left\" width=\"600\"/>"
   ]
  },
  {
   "cell_type": "markdown",
   "metadata": {},
   "source": [
    "## Descontructing the Narratives"
   ]
  },
  {
   "cell_type": "markdown",
   "metadata": {},
   "source": [
    "These stories not only illustrates the complexity and order of the user worklfow, but also shows how the user divides, repeats, and emphasizes certain steps in the computational process. "
   ]
  },
  {
   "cell_type": "markdown",
   "metadata": {},
   "source": [
    "<img src=\"images/DomainStoryOneDrawIOcolor.png\" align=\"left\" width=\"350\"/>\n",
    "\n",
    "<img src=\"images/DomainStoryThreeDrawingIOcolor.png\" align=\"right\" width=\"350\"/>\n",
    "\n",
    "<img src=\"images/DomainStoryTwoDrawIOcolor.png\" align=\"center\" width=\"350\"/>"
   ]
  },
  {
   "cell_type": "markdown",
   "metadata": {},
   "source": [
    "There a three common steps that were excuted in exactly the same order and, more interestingly, for the same purpose:\n",
    "\n",
    "#### <font color=\"red\"> 1. Load data, create a sliceplot along the z axis (always this axis first) for density, then temperature. This is done to explore the raw data in context. Users emphasized the need to see the data in the it's shape to decide if values had significanlty changed and therefore was something to investigate further.</font>\n",
    "\n",
    "#### <font color=\"orange\"> 2. Create an animation from sliceplots. Users would cycle through hundreds sliceplots at various times steps either manually or in for loops to look at the change in values over time. Once the sliceplots were created they stitch them together into a short movie they could watch back. </font>"
   ]
  },
  {
   "cell_type": "markdown",
   "metadata": {},
   "source": [
    "3. Use a Phaseplot for later analysis. To futher invesitaget physical featuers, users would use a Phaseplot to look at correlations between fields along different axis."
   ]
  },
  {
   "cell_type": "markdown",
   "metadata": {},
   "source": [
    "### All the users emphasized the ease of quickly create a sliceplot, projection plot, or phaseplot to both explore and analysis the data.  "
   ]
  },
  {
   "cell_type": "markdown",
   "metadata": {},
   "source": [
    "## Generating a JSON Schema"
   ]
  },
  {
   "cell_type": "markdown",
   "metadata": {},
   "source": [
    "Now that we have some insight into user habits and mental models, we can start to take common user actions and convert them into a schema. Eventually, this schema will be what the user can program from declaratively. No knowledge of python would be needed, as users could start with the JSON as a template and simply specify what they would like the code to do. \n",
    "\n",
    "__Below, a simple yt script is taken and turned into a possible schema:__"
   ]
  },
  {
   "cell_type": "code",
   "execution_count": 2,
   "metadata": {},
   "outputs": [],
   "source": [
    "import analysis_schema\n",
    "import yt"
   ]
  },
  {
   "cell_type": "markdown",
   "metadata": {},
   "source": [
    "__Here we load an astronomy dataset using yt:__"
   ]
  },
  {
   "cell_type": "code",
   "execution_count": 4,
   "metadata": {},
   "outputs": [
    {
     "name": "stderr",
     "output_type": "stream",
     "text": [
      "yt : [INFO     ] 2020-06-24 09:44:12,157 Parameters: current_time              = 0.0060000200028298\n",
      "yt : [INFO     ] 2020-06-24 09:44:12,158 Parameters: domain_dimensions         = [32 32 32]\n",
      "yt : [INFO     ] 2020-06-24 09:44:12,161 Parameters: domain_left_edge          = [0. 0. 0.]\n",
      "yt : [INFO     ] 2020-06-24 09:44:12,163 Parameters: domain_right_edge         = [1. 1. 1.]\n",
      "yt : [INFO     ] 2020-06-24 09:44:12,166 Parameters: cosmological_simulation   = 0.0\n"
     ]
    }
   ],
   "source": [
    "ds = yt.load(\"IsolatedGalaxy/galaxy0030/galaxy0030\")"
   ]
  },
  {
   "cell_type": "markdown",
   "metadata": {},
   "source": [
    "__We create a sphere and specify the features and the units:__"
   ]
  },
  {
   "cell_type": "code",
   "execution_count": 1,
   "metadata": {},
   "outputs": [
    {
     "ename": "NameError",
     "evalue": "name 'ds' is not defined",
     "output_type": "error",
     "traceback": [
      "\u001b[0;31m---------------------------------------------------------------------------\u001b[0m",
      "\u001b[0;31mNameError\u001b[0m                                 Traceback (most recent call last)",
      "\u001b[0;32m<ipython-input-1-b7bd19ee8eab>\u001b[0m in \u001b[0;36m<module>\u001b[0;34m\u001b[0m\n\u001b[0;32m----> 1\u001b[0;31m \u001b[0msp\u001b[0m \u001b[0;34m=\u001b[0m \u001b[0mds\u001b[0m\u001b[0;34m.\u001b[0m\u001b[0msphere\u001b[0m\u001b[0;34m(\u001b[0m\u001b[0;34m\"max\"\u001b[0m\u001b[0;34m,\u001b[0m \u001b[0;34m(\u001b[0m\u001b[0;36m10\u001b[0m\u001b[0;34m,\u001b[0m \u001b[0;34m'kpc'\u001b[0m\u001b[0;34m)\u001b[0m\u001b[0;34m)\u001b[0m\u001b[0;34m\u001b[0m\u001b[0;34m\u001b[0m\u001b[0m\n\u001b[0m",
      "\u001b[0;31mNameError\u001b[0m: name 'ds' is not defined"
     ]
    }
   ],
   "source": [
    "sp = ds.sphere(\"max\", (10, 'kpc'))"
   ]
  },
  {
   "cell_type": "markdown",
   "metadata": {},
   "source": [
    "__We can see yt shows us certain attributes of the sphere, and we can call on those attributes:__"
   ]
  },
  {
   "cell_type": "code",
   "execution_count": 6,
   "metadata": {},
   "outputs": [
    {
     "data": {
      "text/plain": [
       "YTSphere (galaxy0030): , center=[1.55561975e+24 1.54243494e+24 1.54356506e+24] cm, radius=3.0856775809623245e+22 cm"
      ]
     },
     "execution_count": 6,
     "metadata": {},
     "output_type": "execute_result"
    }
   ],
   "source": [
    "sp"
   ]
  },
  {
   "cell_type": "code",
   "execution_count": 7,
   "metadata": {},
   "outputs": [
    {
     "data": {
      "text/plain": [
       "['WeightedAverageQuantity',\n",
       " 'TotalQuantity',\n",
       " 'TotalMass',\n",
       " 'CenterOfMass',\n",
       " 'BulkVelocity',\n",
       " 'WeightedVariance',\n",
       " 'AngularMomentumVector',\n",
       " 'Extrema',\n",
       " 'SampleAtMaxFieldValues',\n",
       " 'MaxLocation',\n",
       " 'SampleAtMinFieldValues',\n",
       " 'MinLocation',\n",
       " 'SpinParameter']"
      ]
     },
     "execution_count": 7,
     "metadata": {},
     "output_type": "execute_result"
    }
   ],
   "source": [
    "list(sp.quantities.keys())"
   ]
  },
  {
   "cell_type": "code",
   "execution_count": 8,
   "metadata": {},
   "outputs": [
    {
     "data": {
      "text/plain": [
       "YTArray([3.27209035e+42, 8.58102338e+43]) g"
      ]
     },
     "execution_count": 8,
     "metadata": {},
     "output_type": "execute_result"
    }
   ],
   "source": [
    "sp.quantities.total_mass()"
   ]
  },
  {
   "cell_type": "markdown",
   "metadata": {},
   "source": [
    "__Here we convert the yt sphere into a JSON object:__"
   ]
  },
  {
   "cell_type": "code",
   "execution_count": 9,
   "metadata": {},
   "outputs": [],
   "source": [
    "schema_sphere = analysis_schema.Sphere(center= analysis_schema.UnitfulCoordinate(unit=\"unitary\",\n",
    "                                                                                 values =[0.5, 0.5, 0.5]), \n",
    "                                       radius=analysis_schema.UnitfulValue(unit=\"kpc\", value=50))"
   ]
  },
  {
   "cell_type": "code",
   "execution_count": 10,
   "metadata": {},
   "outputs": [
    {
     "data": {
      "text/plain": [
       "<Sphere center=<UnitfulCoordinate values=[0.5, 0.5, 0.5] unit='unitary'> radius=<UnitfulValue value=50.0 unit='kpc'>>"
      ]
     },
     "execution_count": 10,
     "metadata": {},
     "output_type": "execute_result"
    }
   ],
   "source": [
    "schema_sphere"
   ]
  },
  {
   "cell_type": "code",
   "execution_count": 11,
   "metadata": {},
   "outputs": [
    {
     "data": {
      "text/plain": [
       "'{\"center\": {\"values\": [0.5, 0.5, 0.5], \"unit\": \"unitary\"}, \"radius\": {\"value\": 50.0, \"unit\": \"kpc\"}}'"
      ]
     },
     "execution_count": 11,
     "metadata": {},
     "output_type": "execute_result"
    }
   ],
   "source": [
    "schema_sphere.json()"
   ]
  },
  {
   "cell_type": "markdown",
   "metadata": {},
   "source": [
    "__We can also see the schema that was used to create the object:__"
   ]
  },
  {
   "cell_type": "code",
   "execution_count": 20,
   "metadata": {},
   "outputs": [
    {
     "name": "stdout",
     "output_type": "stream",
     "text": [
      "{\n",
      "  \"title\": \"Sphere\",\n",
      "  \"type\": \"object\",\n",
      "  \"properties\": {\n",
      "    \"center\": {\n",
      "      \"$ref\": \"#/definitions/UnitfulCoordinate\"\n",
      "    },\n",
      "    \"radius\": {\n",
      "      \"$ref\": \"#/definitions/UnitfulValue\"\n",
      "    }\n",
      "  },\n",
      "  \"required\": [\n",
      "    \"center\",\n",
      "    \"radius\"\n",
      "  ],\n",
      "  \"definitions\": {\n",
      "    \"UnitfulCoordinate\": {\n",
      "      \"title\": \"UnitfulCoordinate\",\n",
      "      \"type\": \"object\",\n",
      "      \"properties\": {\n",
      "        \"values\": {\n",
      "          \"title\": \"Values\",\n",
      "          \"default\": [\n",
      "            0.5,\n",
      "            0.5,\n",
      "            0.5\n",
      "          ],\n",
      "          \"minItems\": 3,\n",
      "          \"maxItems\": 3,\n",
      "          \"type\": \"array\",\n",
      "          \"items\": {\n",
      "            \"type\": \"number\"\n",
      "          }\n",
      "        },\n",
      "        \"unit\": {\n",
      "          \"title\": \"Unit\",\n",
      "          \"default\": \"unitary\",\n",
      "          \"type\": \"string\"\n",
      "        }\n",
      "      }\n",
      "    },\n",
      "    \"UnitfulValue\": {\n",
      "      \"title\": \"UnitfulValue\",\n",
      "      \"type\": \"object\",\n",
      "      \"properties\": {\n",
      "        \"value\": {\n",
      "          \"title\": \"Value\",\n",
      "          \"type\": \"number\"\n",
      "        },\n",
      "        \"unit\": {\n",
      "          \"title\": \"Unit\",\n",
      "          \"default\": \"unitary\",\n",
      "          \"type\": \"string\"\n",
      "        }\n",
      "      },\n",
      "      \"required\": [\n",
      "        \"value\"\n",
      "      ]\n",
      "    }\n",
      "  }\n",
      "}\n"
     ]
    }
   ],
   "source": [
    "print(schema_sphere.schema_json(indent=2))"
   ]
  },
  {
   "cell_type": "markdown",
   "metadata": {},
   "source": [
    "## Future Directions\n",
    "\n",
    "This is the first step to investigating the mental model and code objects, attributes and inter-relationships that are shared across natural science domains including oceanography, climate and weather, neuroscience and geophysics. The JSON schema will be extendable across domains and can be implemented in existing science software tools to support interdisciplinary lines of scientific inquiry with a dynamic and context driven framework. As we investigate how best to capture and encode domain expertise, we hope this work will be a model for future open source development and create a novel avenue for dynamic, and domain agnostic tooling."
   ]
  },
  {
   "cell_type": "markdown",
   "metadata": {},
   "source": [
    "## About the Authors"
   ]
  },
  {
   "cell_type": "markdown",
   "metadata": {},
   "source": [
    "#### Sam Walkow, Informatics PhD Student at the University of Illinois\n",
    "\n",
    "Sam Walkow is a PhD student in Informatics interested in open source software sustainability and culture and data visualization. She's investigating these issues by looking at the intersection of human and computer workflows, problem solving and data conecption and resperesentation. \n",
    "\n",
    "##### Contact:\n",
    "- @samwalkow\n",
    "- swalkow2@illinois.edu\n",
    "\n",
    "<img src=\"images/swalkow.jpg\" align=\"left\" width=\"350\"/>"
   ]
  },
  {
   "cell_type": "markdown",
   "metadata": {},
   "source": [
    "#### Matthew Turk, Assitant Professor in School of Information Sciences at the University of Illinois\n",
    "\n",
    "Matthew Turk is an assistant professor in the School of Information Sciences and also holds an appointment with the Department of Astronomy in the College of Liberal Arts and Sciences. His research is focused on how individuals interact with data and how that data is processed and understood.\n",
    "\n",
    "At the University of Illinois, he leads the Data Exploration Lab and teaches in Data Visualization, Data Storytelling, and Computational Astrophysics.\n",
    "\n",
    "\n",
    "##### Contact:\n",
    "- https://matthewturk.github.io/\n",
    "    "
   ]
  },
  {
   "cell_type": "markdown",
   "metadata": {},
   "source": [
    "## Acknowledgements\n",
    "\n",
    "We would like to thank major yt contributors including Nathan Goldbaum, and the larger yt community for their sustained effort. \n",
    "\n",
    "We would also like to thank the following entities for their support:\n",
    "\n",
    "- The Gordon and Betty Moore Foundation’s Data-Driven Discovery Initiative through Grant GBMF4561.\n",
    "- The National Science Foundation under Grants OAC-1663914 and ACI-1535651\n",
    "- NumFOCUS\n"
   ]
  }
 ],
 "metadata": {
  "kernelspec": {
   "display_name": "Python 3",
   "language": "python",
   "name": "python3"
  },
  "language_info": {
   "codemirror_mode": {
    "name": "ipython",
    "version": 3
   },
   "file_extension": ".py",
   "mimetype": "text/x-python",
   "name": "python",
   "nbconvert_exporter": "python",
   "pygments_lexer": "ipython3",
   "version": "3.7.3"
  }
 },
 "nbformat": 4,
 "nbformat_minor": 4
}
