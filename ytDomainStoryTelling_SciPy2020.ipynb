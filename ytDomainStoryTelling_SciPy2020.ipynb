{
 "cells": [
  {
   "cell_type": "markdown",
   "metadata": {},
   "source": [
    "# Using Domain Storytelling to Develop a Context Aware Framework to Support Interdisciplinary Scientific Inquiry in yt\n",
    "\n",
    "- NCSA & iSchool at University of Illinois\n",
    "- [yt-project.org](https://yt-project.org/)\n",
    "- [data-exp-lab.github.io](https://data-exp-lab.github.io/)\n",
    "- [github.com/yt-project](https://github.com/yt-project/)\n",
    "\n",
    "#### Authors: Sam Walkow and Matthew Turk"
   ]
  },
  {
   "cell_type": "markdown",
   "metadata": {},
   "source": [
    "## Why are we building software for interdisciplinary work?\n",
    "\n",
    "There's a lot to choose from when it comes to scientific software.\n",
    "\n",
    "Exponential growth in open source software has diversified the ecosystem but also narrowed the scope of the tools themselves. We see new domain specific tools emerge and existing tools start to stagnate, or disappear completely. Despite overlapping functionality and purpose, open source scientific libraries face difficulty attracting and keeping contributors for exiting tools. Additionally, these essential tools require substantial effort to learn and incorporate into a research workflow; this leads researchers to remain conservative, sticking to what they know. \n",
    "\n",
    "__Often, this means having to change the way we think__\n",
    "\n",
    "<br/>\n",
    "<center><img align=\"center\" width=\"600\" src=\"images/scientist.png\"></center>\n",
    "<br/>\n",
    "\n",
    "In an effort to both harness and counter this exponential growth, the yt team is building a context aware framework using domain knowledge data gathered using a method called domain storytelling.\n"
   ]
  },
  {
   "cell_type": "markdown",
   "metadata": {},
   "source": [
    "## What's yt?"
   ]
  },
  {
   "cell_type": "markdown",
   "metadata": {},
   "source": [
    "### The Software\n",
    "\n",
    "yt (https://yt-project.org/) is an open source python library designed for scientific analysis and visualization of volumetric data from the physical sciences. Historically yt was developed for computational astrophysics, but we aim to expand yt's capabilities to support: \n",
    "\n",
    "- __Geophysics__\n",
    "- __Neuroimaging__\n",
    "- __Weather__ \n",
    "- __Climate__\n",
    "- __Oceanography__\n",
    "\n",
    "Here's some yt examples:\n",
    "\n",
    "    Supernova Ignition Simulation\n",
    "    https://arxiv.org/abs/1807.07579\n",
    "    (Evan O’Connor and Sean Couch, MSU)\n",
    "\n",
    "<img src=\"images/ytimage.png\" align=\"left\" width=\"500\"/>\n",
    "\n",
    "<img src=\"images/weatherradar.png\" align=\"right\" width=\"500\"/>"
   ]
  },
  {
   "cell_type": "markdown",
   "metadata": {},
   "source": [
    "                                Predicted Weather Radar from Tornadogenesis Simulation\n",
    "                                                   Leigh Orf (University of Wisconsin),\n",
    "                                                                 Image Credit: NCSA AVL"
   ]
  },
  {
   "cell_type": "markdown",
   "metadata": {},
   "source": [
    "<br>\n",
    "<img src=\"images/weathermodel.png\" align=\"right\" width=\"530\"/>\n",
    "<img src=\"images/weathermodel2.png\" align=\"right\" width=\"530\"/>\n",
    "<br>"
   ]
  },
  {
   "cell_type": "markdown",
   "metadata": {},
   "source": [
    "       GEOS-5 Global Weather Model visualized with yt using map projections from Cartopy\n",
    "       Madicken Munk, (UIUC)"
   ]
  },
  {
   "cell_type": "markdown",
   "metadata": {},
   "source": [
    "### The Community\n",
    "\n",
    "We're also an active open source developer community, dedicated to consensus-oriented and code-driven discussions. We have about 162 contributors with over 27,000 commits mostly in python. \n",
    "\n",
    "The first commit was made in February 2007, and the last commit was made this week. \n",
    "\n",
    "\n",
    "<img src=\"images/ytmeeting.jpg\" align=\"left\" width=\"420\"/>\n",
    "<img src=\"images/ytcommits.png\" align=\"center\" width=\"910\"/>\n"
   ]
  },
  {
   "cell_type": "markdown",
   "metadata": {},
   "source": [
    "#### Join us on GitHub: https://github.com/yt-project"
   ]
  },
  {
   "cell_type": "markdown",
   "metadata": {},
   "source": [
    "## How are we going to develop our framework?\n",
    "\n",
    "We want to address software sustainability and re-use issues by embedding user and domain context into software tools, and we are using yt as a testing platform. We are starting with the domain we know, astronomy, and will extend to other physical science domains.\n",
    "\n",
    "### How can we bring together diverse and already tool-rich scientific areas? \n",
    "\n",
    "We believe that are a core set of operations that are used across physical science domains. Our goal is to create a new foundation in an already existing software by using common operations, rules and concepts shared across disciplines as the building blocks.\n",
    "\n",
    "Operations of analysis and visualization are often re-used across domains, including:\n",
    "- Loading and registering data into a coordinate system\n",
    "- Methods of aggregation\n",
    "- Methods of transformation\n",
    "- Methods of plotting\n",
    "\n",
    "By abstracting physical science analysis and visualization into a series of operations we can build a shared, robust framework that can be reconfigured and re-purposed across domains. \n",
    "\n",
    "#### What does this look like from a technical standpoint?\n",
    "\n",
    "The yt team is implementing a context aware reference framework encoded into a JSON schema organized using natural science domain knowledge. The JSON schema is designed to be a fluid mental model within the software. We chose to use JSON to represent the framework because it allows for a declarative programming approach and is a tool agnostic format. This current project is working towards a method for capturing and encoding domain knowledge as it is relayed by domain experts. \n"
   ]
  },
  {
   "cell_type": "markdown",
   "metadata": {},
   "source": [
    "## Domain Stories\n",
    "\n",
    "To build this schema, domain knowledge including jargon, data analysis tasks, and implicit rules are captured using domain storytelling; a technique that uses pictographs and use cases to illustrate a common workflow. \n",
    "\n",
    "For more information on this method: https://domainstorytelling.org/\n",
    "\n",
    "A domain story is ‘told’ by having a domain scientist either describe or draw each step in their workflow, including interactions with their software tools, the data, and their internal thought process. We are collecting domain stories, or use cases, to capture two elements: high level workflow steps and underlying code examples to complete those steps. From these use cases, we are identifying data analysis patterns that can be described using a single vocabulary and set of rules, which can be implemented in python and yt. \n",
    "\n",
    "Starting with computational astrophysics domain we…\n",
    "- Capture user workflow and thought process\n",
    "- Identify key steps in analysis \n",
    "- Look for overlapping trends across stories\n",
    "- Extract a common vocabulary and application of concepts\n",
    "- Organize concepts in a computer readable and representation\n",
    "- Mapping user stories to codebase\n",
    "\n",
    "\n"
   ]
  },
  {
   "cell_type": "markdown",
   "metadata": {},
   "source": [
    "### A Domain Story about an Exploding Star\n",
    "\n",
    "We started each story with general questions about the user workflow, with users drawing out their process. User's defined icons that indicated different features of their work - files, systems, operations, etc. They also indicated using arrows the order of actions and any steps they repeated. Often pseudocode was added to the drawing."
   ]
  },
  {
   "cell_type": "markdown",
   "metadata": {},
   "source": [
    "<img src=\"images/DomainStoryOneUserDrawing.jpg\" align=\"left\" width=\"450\"/>\n",
    "\n",
    "- This domain story shows the investigation of an exploding star\n",
    "- The user manually creates multiple slice plots across time steps to monitor changing density values\n",
    "- In this process, the user iterates over the time steps as part of the exploration and saving the images that are rendered"
   ]
  },
  {
   "cell_type": "markdown",
   "metadata": {},
   "source": [
    "<img src=\"images/Stardiagram.jpg\" align=\"right\" width=\"500\"/>\n",
    "\n",
    "- Users often started from the end and worked backward; they wanted to show what the process produced\n",
    "- More detailed hand drawings showed the phenomena they were trying to understand\n",
    "- Visualization was core to their internal understanding\n"
   ]
  },
  {
   "cell_type": "markdown",
   "metadata": {},
   "source": [
    "<img src=\"images/Slice_density_mainseq.gif\" align=\"left\" width=\"500\"/>\n",
    "\n",
    "- This is several slice plots at different time points stitched together\n",
    "- This user picked a part the data into slices, and then reconstructed them into an animation for better understanding\n",
    "- Users also wanted to show their end product throughout the process"
   ]
  },
  {
   "cell_type": "markdown",
   "metadata": {},
   "source": [
    "<img src=\"images/DomainStoryOneDrawIO.png\" align=\"right\" width=\"600\"/>\n",
    "\n",
    "- The domain story is formalized using icons and annotated with text and pseudocode\n",
    "- We can see the shape and steps taken by the user, and where they iterate in their workflow\n",
    "- We can start to categorize each action taken by the user to use across all stories"
   ]
  },
  {
   "cell_type": "markdown",
   "metadata": {},
   "source": [
    "### A Domain Story about the Formation of the Moon\n",
    "\n",
    "Not all users wanted to start by drawing. Some started by writing pseudocode instead. "
   ]
  },
  {
   "cell_type": "markdown",
   "metadata": {},
   "source": [
    "<img src=\"images/DomainStoryTwoUserDrawingCode.jpg\" align=\"left\" width=\"400\"/>\n",
    "\n",
    "- This domain story is about the formation of the moon\n",
    "- The user is re-constructing the possible conditions for that formation to happen, and uses yt to create different shapes and data structures to test those conditions\n",
    "- A for loop with pseudocode shows the high-level process\n"
   ]
  },
  {
   "cell_type": "markdown",
   "metadata": {},
   "source": [
    "<img src=\"images/DomainStoryTwoUserDrawingLoop.jpg\" align=\"right\" width=\"500\"/>\n",
    "\n",
    "- We used the pseudocode to create the domain story by ordering the pieces of code\n",
    "- The user follows a pattern of loading data, exploring the data over many time steps, and then beginning analysis. \n",
    "- yt served to guide data exploration, verify pieces that were later used for analysis, and to generate simulated physical structures"
   ]
  },
  {
   "cell_type": "markdown",
   "metadata": {},
   "source": [
    "<img src=\"images/DomainStoryTwoDrawIO.png\" align=\"left\" width=\"500\"/>\n",
    "\n",
    "- This story should one large workflow iterated over many times, with a few variations\n",
    "- We can see a similar pattern of loading data, exploration using slice plots and projection plots, and then building up structures in yt for analysis\n",
    "- Keys pieces of analysis included methods of aggregation and correlation of values"
   ]
  },
  {
   "cell_type": "markdown",
   "metadata": {},
   "source": [
    "### A Domain Story about Star Formation\n",
    "\n",
    "For this domain story, also about star activity, the user had two distinct phases: exploration and analysis. While both previous stories had this as well, this story divides by completing one step before moving onto the next\n",
    "\n"
   ]
  },
  {
   "cell_type": "markdown",
   "metadata": {},
   "source": [
    "<img src=\"images/DomainStoryThreeZoom.png\" align=\"left\" width=\"500\"/>\n",
    "\n",
    "- The user starts by looping all data to display a slice and projection plot to get an overview of the data and looks for trends\n",
    "- The analysis phase is done at the cell level, as the user looks for correlating cells values across fields\n",
    "\n",
    "\n"
   ]
  },
  {
   "cell_type": "markdown",
   "metadata": {},
   "source": [
    "<img src=\"images/DomainStoryThreeUserDrawing.png\" align=\"right\" width=\"400\"/>\n",
    "\n",
    "- The user also stressed the importance of the physical nature of the dataset, and how that affected their mental model\n",
    "- They start by looking the z axis, or the mid-plane of the data structure and look at the density values first\n",
    "- This is where indicators of a trend could be found"
   ]
  },
  {
   "cell_type": "markdown",
   "metadata": {},
   "source": [
    "<img src=\"images/DomainStoryThreeDrawingIO.png\" align=\"left\" width=\"600\"/>\n",
    "\n",
    "Shared habits and starting points for investigation could inform default values for our schema, and how we can structure data so what users need is intuitive and easily accessible. "
   ]
  },
  {
   "cell_type": "markdown",
   "metadata": {},
   "source": [
    "## Deconstructing the Narratives"
   ]
  },
  {
   "cell_type": "markdown",
   "metadata": {},
   "source": [
    "These stories not only illustrate the complexity and order of the user workflow, but also shows how the user divides, repeats, and emphasizes certain steps in the computational process. "
   ]
  },
  {
   "cell_type": "markdown",
   "metadata": {},
   "source": [
    "<img src=\"images/DomainStoryOneDrawIOcolor.png\" align=\"left\" width=\"350\"/>\n",
    "\n",
    "<img src=\"images/DomainStoryThreeDrawingIOcolor.png\" align=\"right\" width=\"350\"/>\n",
    "\n",
    "<img src=\"images/DomainStoryTwoDrawIOcolor.png\" align=\"center\" width=\"350\"/>"
   ]
  },
  {
   "cell_type": "markdown",
   "metadata": {},
   "source": [
    "There are three common steps that were executed in exactly the same order and, more interestingly, for the same purpose:\n",
    "\n",
    "#### <font color=\"red\">1. First load data and create a slice plot along the z axis (always this axis first) for density, and then for temperature. This is done to explore the raw data in context. Users emphasized the need to see the data in its shape to decide if values had significantly changed and therefore needed further investigation.</font>\n",
    "\n",
    "#### <font color=\"orange\"> 2. Create an animation from slice plots. Users would cycle through hundreds slice plots at various times steps either manually or in loops to look at the change in values over time. Once the slice plots were created they stitched them together into a short movie they could watch back.</font>\n",
    "\n",
    "#### <font color=\"blue\"> 3. Use a Phase plot for later analysis. To further investigate physical features, users would use a Phase plot to look at correlations between fields along different axis.</font>"
   ]
  },
  {
   "cell_type": "markdown",
   "metadata": {},
   "source": [
    "### All the users emphasized the ease of quickly create a slice plot, projection plot, or phase plot to both explore and analyze the data using yt. "
   ]
  },
  {
   "cell_type": "markdown",
   "metadata": {},
   "source": [
    "## Generating a JSON Schema"
   ]
  },
  {
   "cell_type": "markdown",
   "metadata": {},
   "source": [
    "Now that we have some insight into user habits and mental models, we can start to take common user actions and convert them into a schema. Eventually, this schema will be what the user can program from declaratively. No knowledge of python would be needed, as users could start with the JSON as a template and simply specify what they would like the code to do. \n",
    "\n",
    "__Below, a simple yt script is taken and turned into a possible schema:__"
   ]
  },
  {
   "cell_type": "code",
   "execution_count": 1,
   "metadata": {},
   "outputs": [],
   "source": [
    "import analysis_schema\n",
    "import yt"
   ]
  },
  {
   "cell_type": "markdown",
   "metadata": {},
   "source": [
    "__Here we load an astronomy dataset using yt:__"
   ]
  },
  {
   "cell_type": "code",
   "execution_count": 2,
   "metadata": {},
   "outputs": [
    {
     "name": "stderr",
     "output_type": "stream",
     "text": [
      "yt : [INFO     ] 2020-06-26 13:11:15,215 Parameters: current_time              = 0.0060000200028298\n",
      "yt : [INFO     ] 2020-06-26 13:11:15,216 Parameters: domain_dimensions         = [32 32 32]\n",
      "yt : [INFO     ] 2020-06-26 13:11:15,217 Parameters: domain_left_edge          = [0. 0. 0.]\n",
      "yt : [INFO     ] 2020-06-26 13:11:15,217 Parameters: domain_right_edge         = [1. 1. 1.]\n",
      "yt : [INFO     ] 2020-06-26 13:11:15,218 Parameters: cosmological_simulation   = 0.0\n"
     ]
    }
   ],
   "source": [
    "ds = yt.load(\"IsolatedGalaxy/galaxy0030/galaxy0030\")"
   ]
  },
  {
   "cell_type": "markdown",
   "metadata": {},
   "source": [
    "__We create a sphere and specify the features and the units:__"
   ]
  },
  {
   "cell_type": "code",
   "execution_count": 3,
   "metadata": {},
   "outputs": [
    {
     "name": "stderr",
     "output_type": "stream",
     "text": [
      "Parsing Hierarchy : 100%|██████████| 173/173 [00:00<00:00, 5799.40it/s]\n",
      "yt : [INFO     ] 2020-06-26 13:11:15,313 Gathering a field list (this may take a moment.)\n",
      "yt : [INFO     ] 2020-06-26 13:11:19,226 Max Value is 7.73427e-24 at 0.5040893554687501 0.4998168945312501 0.5001831054687500\n"
     ]
    }
   ],
   "source": [
    "sp = ds.sphere(\"max\", (10, 'kpc'))"
   ]
  },
  {
   "cell_type": "markdown",
   "metadata": {},
   "source": [
    "__We can see yt shows us certain attributes of the sphere, and we can call on those attributes:__"
   ]
  },
  {
   "cell_type": "code",
   "execution_count": 4,
   "metadata": {},
   "outputs": [
    {
     "data": {
      "text/plain": [
       "YTSphere (galaxy0030): , center=[1.55561975e+24 1.54243494e+24 1.54356506e+24] cm, radius=3.085677580962325e+22 cm"
      ]
     },
     "execution_count": 4,
     "metadata": {},
     "output_type": "execute_result"
    }
   ],
   "source": [
    "sp"
   ]
  },
  {
   "cell_type": "code",
   "execution_count": 5,
   "metadata": {},
   "outputs": [
    {
     "data": {
      "text/plain": [
       "['WeightedAverageQuantity',\n",
       " 'TotalQuantity',\n",
       " 'TotalMass',\n",
       " 'CenterOfMass',\n",
       " 'BulkVelocity',\n",
       " 'WeightedVariance',\n",
       " 'AngularMomentumVector',\n",
       " 'Extrema',\n",
       " 'SampleAtMaxFieldValues',\n",
       " 'MaxLocation',\n",
       " 'SampleAtMinFieldValues',\n",
       " 'MinLocation',\n",
       " 'SpinParameter']"
      ]
     },
     "execution_count": 5,
     "metadata": {},
     "output_type": "execute_result"
    }
   ],
   "source": [
    "list(sp.quantities.keys())"
   ]
  },
  {
   "cell_type": "code",
   "execution_count": 6,
   "metadata": {},
   "outputs": [
    {
     "data": {
      "text/plain": [
       "unyt_array([3.27209035e+42, 8.58102338e+43], 'g')"
      ]
     },
     "execution_count": 6,
     "metadata": {},
     "output_type": "execute_result"
    }
   ],
   "source": [
    "sp.quantities.total_mass()"
   ]
  },
  {
   "cell_type": "markdown",
   "metadata": {},
   "source": [
    "__Here we a create JSON object that represents a sphere:__"
   ]
  },
  {
   "cell_type": "code",
   "execution_count": 7,
   "metadata": {},
   "outputs": [],
   "source": [
    "schema_sphere = analysis_schema.Sphere(center= analysis_schema.UnitfulCoordinate(unit=\"unitary\",\n",
    "                                                                                 values =[0.5, 0.5, 0.5]), \n",
    "                                       radius=analysis_schema.UnitfulValue(unit=\"kpc\", value=50))"
   ]
  },
  {
   "cell_type": "code",
   "execution_count": 8,
   "metadata": {},
   "outputs": [
    {
     "data": {
      "text/plain": [
       "Sphere(center=UnitfulCoordinate(values=[0.5, 0.5, 0.5], unit='unitary'), radius=UnitfulValue(value=50.0, unit='kpc'))"
      ]
     },
     "execution_count": 8,
     "metadata": {},
     "output_type": "execute_result"
    }
   ],
   "source": [
    "schema_sphere"
   ]
  },
  {
   "cell_type": "code",
   "execution_count": 9,
   "metadata": {},
   "outputs": [
    {
     "data": {
      "text/plain": [
       "'{\"center\": {\"values\": [0.5, 0.5, 0.5], \"unit\": \"unitary\"}, \"radius\": {\"value\": 50.0, \"unit\": \"kpc\"}}'"
      ]
     },
     "execution_count": 9,
     "metadata": {},
     "output_type": "execute_result"
    }
   ],
   "source": [
    "schema_sphere.json()"
   ]
  },
  {
   "cell_type": "markdown",
   "metadata": {},
   "source": [
    "__We can also see the schema that was used to create the object:__"
   ]
  },
  {
   "cell_type": "code",
   "execution_count": 10,
   "metadata": {},
   "outputs": [
    {
     "name": "stdout",
     "output_type": "stream",
     "text": [
      "{\n",
      "  \"title\": \"Sphere\",\n",
      "  \"type\": \"object\",\n",
      "  \"properties\": {\n",
      "    \"center\": {\n",
      "      \"$ref\": \"#/definitions/UnitfulCoordinate\"\n",
      "    },\n",
      "    \"radius\": {\n",
      "      \"$ref\": \"#/definitions/UnitfulValue\"\n",
      "    }\n",
      "  },\n",
      "  \"required\": [\n",
      "    \"center\",\n",
      "    \"radius\"\n",
      "  ],\n",
      "  \"definitions\": {\n",
      "    \"UnitfulCoordinate\": {\n",
      "      \"title\": \"UnitfulCoordinate\",\n",
      "      \"type\": \"object\",\n",
      "      \"properties\": {\n",
      "        \"values\": {\n",
      "          \"title\": \"Values\",\n",
      "          \"default\": [\n",
      "            0.5,\n",
      "            0.5,\n",
      "            0.5\n",
      "          ],\n",
      "          \"minItems\": 3,\n",
      "          \"maxItems\": 3,\n",
      "          \"type\": \"array\",\n",
      "          \"items\": {\n",
      "            \"type\": \"number\"\n",
      "          }\n",
      "        },\n",
      "        \"unit\": {\n",
      "          \"title\": \"Unit\",\n",
      "          \"default\": \"unitary\",\n",
      "          \"type\": \"string\"\n",
      "        }\n",
      "      }\n",
      "    },\n",
      "    \"UnitfulValue\": {\n",
      "      \"title\": \"UnitfulValue\",\n",
      "      \"type\": \"object\",\n",
      "      \"properties\": {\n",
      "        \"value\": {\n",
      "          \"title\": \"Value\",\n",
      "          \"type\": \"number\"\n",
      "        },\n",
      "        \"unit\": {\n",
      "          \"title\": \"Unit\",\n",
      "          \"default\": \"unitary\",\n",
      "          \"type\": \"string\"\n",
      "        }\n",
      "      },\n",
      "      \"required\": [\n",
      "        \"value\"\n",
      "      ]\n",
      "    }\n",
      "  }\n",
      "}\n"
     ]
    }
   ],
   "source": [
    "print(schema_sphere.schema_json(indent=2))"
   ]
  },
  {
   "cell_type": "markdown",
   "metadata": {},
   "source": [
    "## Future Directions\n",
    "\n",
    "This is the first step to investigating the mental model and code objects, attributes and inter-relationships that are shared across natural science domains including oceanography, climate and weather, neuroscience and geophysics. The JSON schema will be extended across domains and can be implemented in existing science software tools to support interdisciplinary lines of scientific inquiry with a dynamic and context driven framework. As we investigate how best to capture and encode domain expertise, we hope this work will be a model for future open source development and create a novel avenue for dynamic, and domain agnostic tooling."
   ]
  },
  {
   "cell_type": "markdown",
   "metadata": {},
   "source": [
    "## About the Authors"
   ]
  },
  {
   "cell_type": "markdown",
   "metadata": {},
   "source": [
    "#### Sam Walkow, Informatics PhD Student at the University of Illinois\n",
    "\n",
    "Sam Walkow is a PhD student in Informatics interested in open source software sustainability and culture and data visualization. She's investigating these issues by looking at the intersection of human and computer workflows, problem solving and data conception and representation. \n",
    "\n",
    "#### Contact:\n",
    "- @samwalkow (twitter)\n",
    "- swalkow2@illinois.edu\n",
    "\n",
    "<img src=\"images/swalkow.jpg\" align=\"left\" width=\"350\"/>"
   ]
  },
  {
   "cell_type": "markdown",
   "metadata": {},
   "source": [
    "#### Matthew Turk, Assistant Professor in School of Information Sciences at the University of Illinois\n",
    "\n",
    "Matthew Turk is an assistant professor in the School of Information Sciences and also holds an appointment with the Department of Astronomy in the College of Liberal Arts and Sciences. His research is focused on how individuals interact with data and how that data is processed and understood.\n",
    "\n",
    "At the University of Illinois, he leads the Data Exploration Lab and teaches in Data Visualization, Data Storytelling, and Computational Astrophysics.\n",
    "\n",
    "\n",
    "#### Contact:\n",
    "\n",
    "[Matthew Turk dot github dot io](https://matthewturk.github.io/)"
   ]
  },
  {
   "cell_type": "markdown",
   "metadata": {},
   "source": [
    "## Acknowledgements\n",
    "\n",
    "We would like to thank major yt contributors including Nathan Goldbaum, and the larger yt community for their sustained effort. \n",
    "\n",
    "We would also like to thank the following entities for their support:\n",
    "\n",
    "- The Gordon and Betty Moore Foundation’s Data-Driven Discovery Initiative through Grant GBMF4561.\n",
    "- The National Science Foundation under Grants OAC-1663914 and ACI-1535651\n",
    "- NumFOCUS\n"
   ]
  },
  {
   "cell_type": "code",
   "execution_count": 11,
   "metadata": {},
   "outputs": [
    {
     "data": {
      "text/html": [
       "<style>\n",
       "@import url('https://fonts.googleapis.com/css?family=Nanum%20Gothic&display=swap');\n",
       "   div.jp-MarkdownOutput {font-family: \"Nanum Gothic\"; font-size: 200%;}\n",
       "</style>\n"
      ],
      "text/plain": [
       "<IPython.core.display.HTML object>"
      ]
     },
     "metadata": {},
     "output_type": "display_data"
    }
   ],
   "source": [
    "%%html\n",
    "<style>\n",
    "@import url('https://fonts.googleapis.com/css?family=Nanum%20Gothic&display=swap');\n",
    "   div.jp-MarkdownOutput {font-family: \"Nanum Gothic\"; font-size: 200%;}\n",
    "</style>"
   ]
  },
  {
   "cell_type": "code",
   "execution_count": null,
   "metadata": {},
   "outputs": [],
   "source": []
  }
 ],
 "metadata": {
  "kernelspec": {
   "display_name": "Python 3",
   "language": "python",
   "name": "python3"
  },
  "language_info": {
   "codemirror_mode": {
    "name": "ipython",
    "version": 3
   },
   "file_extension": ".py",
   "mimetype": "text/x-python",
   "name": "python",
   "nbconvert_exporter": "python",
   "pygments_lexer": "ipython3",
   "version": "3.7.3"
  }
 },
 "nbformat": 4,
 "nbformat_minor": 4
}
