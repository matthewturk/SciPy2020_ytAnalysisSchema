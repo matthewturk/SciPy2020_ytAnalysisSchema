{
 "cells": [
  {
   "cell_type": "markdown",
   "metadata": {},
   "source": [
    "# Using Domain Storytelling to Develop a Context Aware Framework to Support Interdisciplinary Scientific Inquiry in yt\n",
    "\n",
    "- NCSA & iSchool at University of Illinois\n",
    "- [yt-project.org](https://yt-project.org/)\n",
    "- [data-exp-lab.github.io](https://data-exp-lab.github.io/)\n",
    "- [github.com/yt-project](https://github.com/yt-project/)\n",
    "\n",
    "#### Authors: Sam Walkow and Matthew Turk"
   ]
  },
  {
   "cell_type": "markdown",
   "metadata": {},
   "source": [
    "## Why are we building software for interdiciplinary work?\n",
    "\n",
    "There's a lot to choose from when it comes to scientific software.\n",
    "\n",
    "Exponential growth in open source software has diversified the ecosystem but also narrowed the scope of the tools themselves. We see new domain specific tools emerge and existing tools start to stagnate, or disappear completely. Despite overlapping functionality and purpose, open source scientific libraries face difficulty attracting and keeping contributors for exiting tools. Additionally, these essential tools require substantial effort to learn and incorporate into a research workflow; this leads researchers to remain conservative, sticking to what they know. \n",
    "\n",
    "__Often, this means having to change the way we think__\n",
    "\n",
    "<br/>\n",
    "<center><img align=\"center\" width=\"600\" src=\"images/scientist.png\"></center>\n",
    "<br/>\n",
    "\n",
    "In an effort to both harness and counter this exponential growth, the yt team is building a context aware framework using domain knowledge data gathered using a method called domain storytelling.\n"
   ]
  },
  {
   "cell_type": "markdown",
   "metadata": {},
   "source": [
    "## What's yt?"
   ]
  },
  {
   "cell_type": "markdown",
   "metadata": {},
   "source": [
    "### The Software\n",
    "\n",
    "yt (https://yt-project.org/) is an open source python library designed for scientific analysis and visualization of volumetric data from the physical sciences. Histroically yt was developed for computational astrophysics, but we aim to expand yt's capabilities to support: \n",
    "\n",
    "- __Geophysics__\n",
    "- __Neuroimaging__\n",
    "- __Weather__ \n",
    "- __Climate__\n",
    "- __Oceanography__\n",
    "\n",
    "Here's some yt examples:\n",
    "\n",
    "    Supernova Ignition Simulation\n",
    "    https://arxiv.org/abs/1807.07579\n",
    "    (Evan O’Connor and Sean Couch, MSU)\n",
    "\n",
    "<img src=\"images/ytimage.png\" align=\"left\" width=\"500\"/>\n",
    "\n",
    "<img src=\"images/weatherradar.png\" align=\"right\" width=\"500\"/>"
   ]
  },
  {
   "cell_type": "markdown",
   "metadata": {},
   "source": [
    "                                Predicted Weather Radar from Tornadogenesis Simulation\n",
    "                                                   Leigh Orf (University of Wisconsin),\n",
    "                                                                 Image Credit: NCSA AVL"
   ]
  },
  {
   "cell_type": "markdown",
   "metadata": {},
   "source": [
    "<br>\n",
    "<img src=\"images/weathermodel.png\" align=\"right\" width=\"530\"/>\n",
    "<img src=\"images/weathermodel2.png\" align=\"right\" width=\"530\"/>\n",
    "<br>"
   ]
  },
  {
   "cell_type": "markdown",
   "metadata": {},
   "source": [
    "       GEOS-5 Global Weather Model visualized with yt using map projections from Cartopy\n",
    "       Madicken Munk, (UIUC)"
   ]
  },
  {
   "cell_type": "markdown",
   "metadata": {},
   "source": [
    "### The Community\n",
    "\n",
    "We're also an active open source developer community, dedicated to consensus-oriented and code-driven discussions. We have about 162 contributors with over 27,000 commits mostly in python. \n",
    "\n",
    "The first commit was made in Feburary 2007, and the last commit was made this week. \n",
    "\n",
    "\n",
    "<img src=\"images/ytmeeting.jpg\" align=\"left\" width=\"420\"/>\n",
    "<img src=\"images/ytcommits.png\" align=\"center\" width=\"910\"/>\n"
   ]
  },
  {
   "cell_type": "markdown",
   "metadata": {},
   "source": [
    "#### Join us on github: https://github.com/yt-project"
   ]
  },
  {
   "cell_type": "markdown",
   "metadata": {},
   "source": [
    "## How are we going to develop our framework?\n",
    "\n",
    "We want to address software sustainability and re-use issues by embedding user and domain context into software tools, and we are using yt as a testing platform. We are starting with the domain we know, astronomy, and will extend to other physical science domains.\n",
    "\n",
    "### How can we bring together diverse and already tool-rich scientific areas? \n",
    "\n",
    "We believe that are a core set of operations that are used across physical science domains. Our goal is to create a new foundation in an already exisiting software by using common operations, rules and concepts shared across disiplines as the building blocks.\n",
    "\n",
    "Operations of analysis and visualization are often re-used across domains, including:\n",
    "- Loading and registering data into a coordinate system\n",
    "- Methods of aggregation\n",
    "- Methods of transformation\n",
    "- Methods of plotting\n",
    "\n",
    "By abstracting physical science analysis and visualization into a series of operations we can build a shared, robust framework that can be reconfigured and repurposed across domains. \n",
    "\n",
    "#### What does this look like from a technical standpoint?\n",
    "\n",
    "The yt team is implementing a context aware reference framework encoded into a JSON schema organized using natural science domain knowledge. The JSON schema is designed to be a fluid mental model within the software. We chose to use JSON to represent the framework because it allows for a declaraitve programming approach and is a tool agnostic format. This current project is working towards a method for capturing and encoding domain knowledge as it is relayed by domain experts. \n"
   ]
  },
  {
   "cell_type": "markdown",
   "metadata": {},
   "source": [
    "## Domain Stories\n",
    "\n",
    "To build this schema, domain knowledge including jargon, data analysis tasks, and implicit rules are captured using domain storytelling; a technique that uses pictographs and use cases to illustrate a common workflow. \n",
    "\n",
    "For more information on this method: https://domainstorytelling.org/\n",
    "\n",
    "A domain story is ‘told’ by having a domain scientist either describe or draw each step in their workflow, including interactions with their software tools, the data, and their internal thought process. We are collecting domain stories, or use cases, to capture two elements: high level workflow steps and underlying code examples to complete those steps. From these use cases, we are identifying data analysis patterns that can be described using a single vocabulary and set of rules, which can be implemented in python and yt. \n",
    "\n",
    "Starting with computational astrophysics domain we…\n",
    "- Capture user workflow and thought process\n",
    "- Identify key steps in analysis \n",
    "- Look for overlapping trends across stories\n",
    "- Extract a common vocabulary and application of concepts\n",
    "- Organize concepts in a computer readable and representation\n",
    "- Mapping user stories to codebase\n",
    "\n",
    "\n"
   ]
  },
  {
   "cell_type": "markdown",
   "metadata": {},
   "source": [
    "### A Domain Story about an Exploding Star\n",
    "\n",
    "We started each story with general questions about the user workflow, with users drawing out their process. User's defined icons that indicated different features of their work - files, systems, operations, etc. They also indicated using arrows the order of actions and any steps they repeated. Often pseudocode was added to the drawing."
   ]
  },
  {
   "cell_type": "markdown",
   "metadata": {},
   "source": [
    "<img src=\"images/DomainStoryOneUserDrawing.jpg\" align=\"left\" width=\"450\"/>\n",
    "\n",
    "- This domain story show the investigation of an exploding star\n",
    "- The user manually creates multiple sliceplots across time steps to monitor changing density values\n",
    "- In this process, the user iterates over the time steps as part of the exploration and saving the images that are rendered"
   ]
  },
  {
   "cell_type": "markdown",
   "metadata": {},
   "source": [
    "<img src=\"images/Stardiagram.jpg\" align=\"right\" width=\"500\"/>\n",
    "\n",
    "- Users often started from the end and worked backward; they wanted to show what the process produced\n",
    "- More detailed hand drawings showed the phemonomon they were trying to understand\n",
    "- Visualization was core to their internal understanding\n"
   ]
  },
  {
   "cell_type": "markdown",
   "metadata": {},
   "source": [
    "<img src=\"images/Slice_density_mainseq.gif\" align=\"left\" width=\"500\"/>\n",
    "\n",
    "- This is several sliceplots at different time points stitched together\n",
    "- This user picked a part the data into slices, and then reconstructed them into an animation for better understanding\n",
    "- Users also wanted to show their end product throughout the process"
   ]
  },
  {
   "cell_type": "markdown",
   "metadata": {},
   "source": [
    "<img src=\"images/DomainStoryOneDrawIO.png\" align=\"right\" width=\"600\"/>\n",
    "\n",
    "- The domain story is formalized using icons and annotated with text and pseudocode\n",
    "- We can see the shape and steps taken by the user, and where they iterate in their workflow\n",
    "- We can start to categorize each action taken by the user to use across all stories"
   ]
  },
  {
   "cell_type": "markdown",
   "metadata": {},
   "source": [
    "### A Domain Story about the Foramtion of the Moon\n",
    "\n",
    "Not all users wanted to start by drawing. Some started by writing pseudocode instead. "
   ]
  },
  {
   "cell_type": "markdown",
   "metadata": {},
   "source": [
    "<img src=\"images/DomainStoryTwoUserDrawingCode.jpg\" align=\"left\" width=\"400\"/>\n",
    "\n",
    "- This domain story is about the formation of the moon\n",
    "- The user is re-constructing the possible conditions for that formation to happen, and uses yt to create different shapes and data structures to test those conditions\n",
    "- A for loop with pseudocode shows the high level process\n"
   ]
  },
  {
   "cell_type": "markdown",
   "metadata": {},
   "source": [
    "<img src=\"images/DomainStoryTwoUserDrawingLoop.jpg\" align=\"right\" width=\"500\"/>\n",
    "\n",
    "- We used the pseudocode to create the domain story by ordering the pieces of code\n",
    "- The user follow a pattern of loading data, exploring the data over many timesteps, and then beginning analysis. \n",
    "- yt served to guide data exploration, verify pieces that were later used for analysis, and to generate simulated physical structures"
   ]
  },
  {
   "cell_type": "markdown",
   "metadata": {},
   "source": [
    "<img src=\"images/DomainStoryTwoDrawIO.png\" align=\"left\" width=\"500\"/>\n",
    "\n",
    "- This story should one large workflow iterated over many times, with a few variations\n",
    "- We can see a similar pattern of loading data, exploration using sliceplots and projection plots, and then building up structures in yt for analysis\n",
    "- Keys pieces of analysis included methods of aggregation and correlation of values"
   ]
  },
  {
   "cell_type": "markdown",
   "metadata": {},
   "source": [
    "### A Domain Story about Star Formation\n",
    "\n",
    "For this domian story, also about star activity, the user had two distinct phases: exploration and analysis. While both previous stories had this as well, this story divides by completing one step before moving onto the next\n",
    "\n"
   ]
  },
  {
   "cell_type": "markdown",
   "metadata": {},
   "source": [
    "<img src=\"images/DomainStoryThreeZoom.png\" align=\"left\" width=\"500\"/>\n",
    "\n",
    "- The user starts by looping all data to display a slice and projection plot to get an overview of the data and looks for trends\n",
    "- The analysis phase is done at the cell level, as the user looks for correlating cells values across fields\n",
    "\n",
    "\n"
   ]
  },
  {
   "cell_type": "markdown",
   "metadata": {},
   "source": [
    "<img src=\"images/DomainStoryThreeUserDrawing.png\" align=\"right\" width=\"400\"/>\n",
    "\n",
    "- The user also stressed the importance of the physical nature of the dataset, and how that affected their mental model\n",
    "- They start by looking the z axis, or the midplane of the data structure and look at the density values first\n",
    "- This is where indicators of a trend could be found"
   ]
  },
  {
   "cell_type": "markdown",
   "metadata": {},
   "source": [
    "<img src=\"images/DomainStoryThreeDrawingIO.png\" align=\"left\" width=\"600\"/>\n",
    "\n",
    "Shared habits and starting points for investigation could inform default values for our schema, and how we can strucutre data so what users need is inituitive and easily accessible. "
   ]
  },
  {
   "cell_type": "markdown",
   "metadata": {},
   "source": [
    "## Descontructing the Narratives"
   ]
  },
  {
   "cell_type": "markdown",
   "metadata": {},
   "source": [
    "These stories not only illustrate the complexity and order of the user worklfow, but also shows how the user divides, repeats, and emphasizes certain steps in the computational process. "
   ]
  },
  {
   "cell_type": "markdown",
   "metadata": {},
   "source": [
    "<img src=\"images/DomainStoryOneDrawIOcolor.png\" align=\"left\" width=\"350\"/>\n",
    "\n",
    "<img src=\"images/DomainStoryThreeDrawingIOcolor.png\" align=\"right\" width=\"350\"/>\n",
    "\n",
    "<img src=\"images/DomainStoryTwoDrawIOcolor.png\" align=\"center\" width=\"350\"/>"
   ]
  },
  {
   "cell_type": "markdown",
   "metadata": {},
   "source": [
    "There a three common steps that were excuted in exactly the same order and, more interestingly, for the same purpose:\n",
    "\n",
    "#### <font color=\"red\">1. First load data and create a sliceplot along the z axis (always this axis first) for density, and then for temperature. This is done to explore the raw data in context. Users emphasized the need to see the data in its shape to decide if values had significanlty changed and therefore warrented further investigation.</font>\n",
    "\n",
    "#### <font color=\"orange\"> 2. Create an animation from sliceplots. Users would cycle through hundreds sliceplots at various times steps either manually or in loops to look at the change in values over time. Once the sliceplots were created they stitched them together into a short movie they could watch back.</font>\n",
    "\n",
    "#### <font color=\"blue\"> 3. Use a Phaseplot for later analysis. To futher invesitaget physical featuers, users would use a Phaseplot to look at correlations between fields along different axis.</font>"
   ]
  },
  {
   "cell_type": "markdown",
   "metadata": {},
   "source": [
    "### All the users emphasized the ease of quickly create a sliceplot, projection plot, or phaseplot to both explore and analyze the data using yt. "
   ]
  },
  {
   "cell_type": "markdown",
   "metadata": {},
   "source": [
    "## Generating a JSON Schema"
   ]
  },
  {
   "cell_type": "markdown",
   "metadata": {},
   "source": [
    "Now that we have some insight into user habits and mental models, we can start to take common user actions and convert them into a schema. Eventually, this schema will be what the user can program from declaratively. No knowledge of python would be needed, as users could start with the JSON as a template and simply specify what they would like the code to do. \n",
    "\n",
    "__Below, a simple yt script is taken and turned into a possible schema:__"
   ]
  },
  {
   "cell_type": "code",
   "execution_count": 1,
   "metadata": {},
   "outputs": [],
   "source": [
    "import analysis_schema\n",
    "import yt"
   ]
  },
  {
   "cell_type": "markdown",
   "metadata": {},
   "source": [
    "__Here we load an astronomy dataset using yt:__"
   ]
  },
  {
   "cell_type": "code",
   "execution_count": 2,
   "metadata": {},
   "outputs": [
    {
     "name": "stderr",
     "output_type": "stream",
     "text": [
      "yt : [INFO     ] 2020-06-25 14:58:35,716 Parameters: current_time              = 0.0060000200028298\n",
      "yt : [INFO     ] 2020-06-25 14:58:35,716 Parameters: domain_dimensions         = [32 32 32]\n",
      "yt : [INFO     ] 2020-06-25 14:58:35,717 Parameters: domain_left_edge          = [0. 0. 0.]\n",
      "yt : [INFO     ] 2020-06-25 14:58:35,718 Parameters: domain_right_edge         = [1. 1. 1.]\n",
      "yt : [INFO     ] 2020-06-25 14:58:35,721 Parameters: cosmological_simulation   = 0.0\n"
     ]
    }
   ],
   "source": [
    "ds = yt.load(\"IsolatedGalaxy/galaxy0030/galaxy0030\")"
   ]
  },
  {
   "cell_type": "markdown",
   "metadata": {},
   "source": [
    "__We create a sphere and specify the features and the units:__"
   ]
  },
  {
   "cell_type": "code",
   "execution_count": 3,
   "metadata": {},
   "outputs": [
    {
     "name": "stderr",
     "output_type": "stream",
     "text": [
      "Parsing Hierarchy : 100%|██████████| 173/173 [00:00<00:00, 5470.31it/s]\n",
      "yt : [INFO     ] 2020-06-25 14:58:35,793 Gathering a field list (this may take a moment.)\n",
      "yt : [INFO     ] 2020-06-25 14:58:38,620 Max Value is 7.73427e-24 at 0.5040893554687501 0.4998168945312501 0.5001831054687500\n"
     ]
    }
   ],
   "source": [
    "sp = ds.sphere(\"max\", (10, 'kpc'))"
   ]
  },
  {
   "cell_type": "markdown",
   "metadata": {},
   "source": [
    "__We can see yt shows us certain attributes of the sphere, and we can call on those attributes:__"
   ]
  },
  {
   "cell_type": "code",
   "execution_count": 4,
   "metadata": {},
   "outputs": [
    {
     "data": {
      "text/plain": [
       "YTSphere (galaxy0030): , center=[1.55561975e+24 1.54243494e+24 1.54356506e+24] cm, radius=3.0856775809623245e+22 cm"
      ]
     },
     "execution_count": 4,
     "metadata": {},
     "output_type": "execute_result"
    }
   ],
   "source": [
    "sp"
   ]
  },
  {
   "cell_type": "code",
   "execution_count": 5,
   "metadata": {},
   "outputs": [
    {
     "data": {
      "text/plain": [
       "['WeightedAverageQuantity',\n",
       " 'TotalQuantity',\n",
       " 'TotalMass',\n",
       " 'CenterOfMass',\n",
       " 'BulkVelocity',\n",
       " 'WeightedVariance',\n",
       " 'AngularMomentumVector',\n",
       " 'Extrema',\n",
       " 'SampleAtMaxFieldValues',\n",
       " 'MaxLocation',\n",
       " 'SampleAtMinFieldValues',\n",
       " 'MinLocation',\n",
       " 'SpinParameter']"
      ]
     },
     "execution_count": 5,
     "metadata": {},
     "output_type": "execute_result"
    }
   ],
   "source": [
    "list(sp.quantities.keys())"
   ]
  },
  {
   "cell_type": "code",
   "execution_count": 6,
   "metadata": {},
   "outputs": [
    {
     "data": {
      "text/plain": [
       "YTArray([3.27209035e+42, 8.58102338e+43]) g"
      ]
     },
     "execution_count": 6,
     "metadata": {},
     "output_type": "execute_result"
    }
   ],
   "source": [
    "sp.quantities.total_mass()"
   ]
  },
  {
   "cell_type": "markdown",
   "metadata": {},
   "source": [
    "__Here we a create JSON object that represents a sphere:__"
   ]
  },
  {
   "cell_type": "code",
   "execution_count": 7,
   "metadata": {},
   "outputs": [],
   "source": [
    "schema_sphere = analysis_schema.Sphere(center= analysis_schema.UnitfulCoordinate(unit=\"unitary\",\n",
    "                                                                                 values =[0.5, 0.5, 0.5]), \n",
    "                                       radius=analysis_schema.UnitfulValue(unit=\"kpc\", value=50))"
   ]
  },
  {
   "cell_type": "code",
   "execution_count": 8,
   "metadata": {},
   "outputs": [
    {
     "data": {
      "text/plain": [
       "<Sphere center=<UnitfulCoordinate values=[0.5, 0.5, 0.5] unit='unitary'> radius=<UnitfulValue value=50.0 unit='kpc'>>"
      ]
     },
     "execution_count": 8,
     "metadata": {},
     "output_type": "execute_result"
    }
   ],
   "source": [
    "schema_sphere"
   ]
  },
  {
   "cell_type": "code",
   "execution_count": 9,
   "metadata": {},
   "outputs": [
    {
     "data": {
      "text/plain": [
       "'{\"center\": {\"values\": [0.5, 0.5, 0.5], \"unit\": \"unitary\"}, \"radius\": {\"value\": 50.0, \"unit\": \"kpc\"}}'"
      ]
     },
     "execution_count": 9,
     "metadata": {},
     "output_type": "execute_result"
    }
   ],
   "source": [
    "schema_sphere.json()"
   ]
  },
  {
   "cell_type": "markdown",
   "metadata": {},
   "source": [
    "__We can also see the schema that was used to create the object:__"
   ]
  },
  {
   "cell_type": "code",
   "execution_count": 10,
   "metadata": {},
   "outputs": [
    {
     "data": {
      "text/html": [
       "<style>.output_html .hll { background-color: #ffffcc }\n",
       ".output_html  { background: #f8f8f8; }\n",
       ".output_html .c { color: #408080; font-style: italic } /* Comment */\n",
       ".output_html .err { border: 1px solid #FF0000 } /* Error */\n",
       ".output_html .k { color: #008000; font-weight: bold } /* Keyword */\n",
       ".output_html .o { color: #666666 } /* Operator */\n",
       ".output_html .ch { color: #408080; font-style: italic } /* Comment.Hashbang */\n",
       ".output_html .cm { color: #408080; font-style: italic } /* Comment.Multiline */\n",
       ".output_html .cp { color: #BC7A00 } /* Comment.Preproc */\n",
       ".output_html .cpf { color: #408080; font-style: italic } /* Comment.PreprocFile */\n",
       ".output_html .c1 { color: #408080; font-style: italic } /* Comment.Single */\n",
       ".output_html .cs { color: #408080; font-style: italic } /* Comment.Special */\n",
       ".output_html .gd { color: #A00000 } /* Generic.Deleted */\n",
       ".output_html .ge { font-style: italic } /* Generic.Emph */\n",
       ".output_html .gr { color: #FF0000 } /* Generic.Error */\n",
       ".output_html .gh { color: #000080; font-weight: bold } /* Generic.Heading */\n",
       ".output_html .gi { color: #00A000 } /* Generic.Inserted */\n",
       ".output_html .go { color: #888888 } /* Generic.Output */\n",
       ".output_html .gp { color: #000080; font-weight: bold } /* Generic.Prompt */\n",
       ".output_html .gs { font-weight: bold } /* Generic.Strong */\n",
       ".output_html .gu { color: #800080; font-weight: bold } /* Generic.Subheading */\n",
       ".output_html .gt { color: #0044DD } /* Generic.Traceback */\n",
       ".output_html .kc { color: #008000; font-weight: bold } /* Keyword.Constant */\n",
       ".output_html .kd { color: #008000; font-weight: bold } /* Keyword.Declaration */\n",
       ".output_html .kn { color: #008000; font-weight: bold } /* Keyword.Namespace */\n",
       ".output_html .kp { color: #008000 } /* Keyword.Pseudo */\n",
       ".output_html .kr { color: #008000; font-weight: bold } /* Keyword.Reserved */\n",
       ".output_html .kt { color: #B00040 } /* Keyword.Type */\n",
       ".output_html .m { color: #666666 } /* Literal.Number */\n",
       ".output_html .s { color: #BA2121 } /* Literal.String */\n",
       ".output_html .na { color: #7D9029 } /* Name.Attribute */\n",
       ".output_html .nb { color: #008000 } /* Name.Builtin */\n",
       ".output_html .nc { color: #0000FF; font-weight: bold } /* Name.Class */\n",
       ".output_html .no { color: #880000 } /* Name.Constant */\n",
       ".output_html .nd { color: #AA22FF } /* Name.Decorator */\n",
       ".output_html .ni { color: #999999; font-weight: bold } /* Name.Entity */\n",
       ".output_html .ne { color: #D2413A; font-weight: bold } /* Name.Exception */\n",
       ".output_html .nf { color: #0000FF } /* Name.Function */\n",
       ".output_html .nl { color: #A0A000 } /* Name.Label */\n",
       ".output_html .nn { color: #0000FF; font-weight: bold } /* Name.Namespace */\n",
       ".output_html .nt { color: #008000; font-weight: bold } /* Name.Tag */\n",
       ".output_html .nv { color: #19177C } /* Name.Variable */\n",
       ".output_html .ow { color: #AA22FF; font-weight: bold } /* Operator.Word */\n",
       ".output_html .w { color: #bbbbbb } /* Text.Whitespace */\n",
       ".output_html .mb { color: #666666 } /* Literal.Number.Bin */\n",
       ".output_html .mf { color: #666666 } /* Literal.Number.Float */\n",
       ".output_html .mh { color: #666666 } /* Literal.Number.Hex */\n",
       ".output_html .mi { color: #666666 } /* Literal.Number.Integer */\n",
       ".output_html .mo { color: #666666 } /* Literal.Number.Oct */\n",
       ".output_html .sa { color: #BA2121 } /* Literal.String.Affix */\n",
       ".output_html .sb { color: #BA2121 } /* Literal.String.Backtick */\n",
       ".output_html .sc { color: #BA2121 } /* Literal.String.Char */\n",
       ".output_html .dl { color: #BA2121 } /* Literal.String.Delimiter */\n",
       ".output_html .sd { color: #BA2121; font-style: italic } /* Literal.String.Doc */\n",
       ".output_html .s2 { color: #BA2121 } /* Literal.String.Double */\n",
       ".output_html .se { color: #BB6622; font-weight: bold } /* Literal.String.Escape */\n",
       ".output_html .sh { color: #BA2121 } /* Literal.String.Heredoc */\n",
       ".output_html .si { color: #BB6688; font-weight: bold } /* Literal.String.Interpol */\n",
       ".output_html .sx { color: #008000 } /* Literal.String.Other */\n",
       ".output_html .sr { color: #BB6688 } /* Literal.String.Regex */\n",
       ".output_html .s1 { color: #BA2121 } /* Literal.String.Single */\n",
       ".output_html .ss { color: #19177C } /* Literal.String.Symbol */\n",
       ".output_html .bp { color: #008000 } /* Name.Builtin.Pseudo */\n",
       ".output_html .fm { color: #0000FF } /* Name.Function.Magic */\n",
       ".output_html .vc { color: #19177C } /* Name.Variable.Class */\n",
       ".output_html .vg { color: #19177C } /* Name.Variable.Global */\n",
       ".output_html .vi { color: #19177C } /* Name.Variable.Instance */\n",
       ".output_html .vm { color: #19177C } /* Name.Variable.Magic */\n",
       ".output_html .il { color: #666666 } /* Literal.Number.Integer.Long */</style><div class=\"highlight\"><pre><span></span><span class=\"p\">{</span>\n",
       "  <span class=\"s2\">&quot;title&quot;</span><span class=\"p\">:</span> <span class=\"s2\">&quot;Sphere&quot;</span><span class=\"p\">,</span>\n",
       "  <span class=\"s2\">&quot;type&quot;</span><span class=\"p\">:</span> <span class=\"s2\">&quot;object&quot;</span><span class=\"p\">,</span>\n",
       "  <span class=\"s2\">&quot;properties&quot;</span><span class=\"p\">:</span> <span class=\"p\">{</span>\n",
       "    <span class=\"s2\">&quot;center&quot;</span><span class=\"p\">:</span> <span class=\"p\">{</span>\n",
       "      <span class=\"s2\">&quot;$ref&quot;</span><span class=\"p\">:</span> <span class=\"s2\">&quot;#/definitions/UnitfulCoordinate&quot;</span>\n",
       "    <span class=\"p\">},</span>\n",
       "    <span class=\"s2\">&quot;radius&quot;</span><span class=\"p\">:</span> <span class=\"p\">{</span>\n",
       "      <span class=\"s2\">&quot;$ref&quot;</span><span class=\"p\">:</span> <span class=\"s2\">&quot;#/definitions/UnitfulValue&quot;</span>\n",
       "    <span class=\"p\">}</span>\n",
       "  <span class=\"p\">},</span>\n",
       "  <span class=\"s2\">&quot;required&quot;</span><span class=\"p\">:</span> <span class=\"p\">[</span>\n",
       "    <span class=\"s2\">&quot;center&quot;</span><span class=\"p\">,</span>\n",
       "    <span class=\"s2\">&quot;radius&quot;</span>\n",
       "  <span class=\"p\">],</span>\n",
       "  <span class=\"s2\">&quot;definitions&quot;</span><span class=\"p\">:</span> <span class=\"p\">{</span>\n",
       "    <span class=\"s2\">&quot;UnitfulCoordinate&quot;</span><span class=\"p\">:</span> <span class=\"p\">{</span>\n",
       "      <span class=\"s2\">&quot;title&quot;</span><span class=\"p\">:</span> <span class=\"s2\">&quot;UnitfulCoordinate&quot;</span><span class=\"p\">,</span>\n",
       "      <span class=\"s2\">&quot;type&quot;</span><span class=\"p\">:</span> <span class=\"s2\">&quot;object&quot;</span><span class=\"p\">,</span>\n",
       "      <span class=\"s2\">&quot;properties&quot;</span><span class=\"p\">:</span> <span class=\"p\">{</span>\n",
       "        <span class=\"s2\">&quot;values&quot;</span><span class=\"p\">:</span> <span class=\"p\">{</span>\n",
       "          <span class=\"s2\">&quot;title&quot;</span><span class=\"p\">:</span> <span class=\"s2\">&quot;Values&quot;</span><span class=\"p\">,</span>\n",
       "          <span class=\"s2\">&quot;default&quot;</span><span class=\"p\">:</span> <span class=\"p\">[</span>\n",
       "            <span class=\"mf\">0.5</span><span class=\"p\">,</span>\n",
       "            <span class=\"mf\">0.5</span><span class=\"p\">,</span>\n",
       "            <span class=\"mf\">0.5</span>\n",
       "          <span class=\"p\">],</span>\n",
       "          <span class=\"s2\">&quot;minItems&quot;</span><span class=\"p\">:</span> <span class=\"mi\">3</span><span class=\"p\">,</span>\n",
       "          <span class=\"s2\">&quot;maxItems&quot;</span><span class=\"p\">:</span> <span class=\"mi\">3</span><span class=\"p\">,</span>\n",
       "          <span class=\"s2\">&quot;type&quot;</span><span class=\"p\">:</span> <span class=\"s2\">&quot;array&quot;</span><span class=\"p\">,</span>\n",
       "          <span class=\"s2\">&quot;items&quot;</span><span class=\"p\">:</span> <span class=\"p\">{</span>\n",
       "            <span class=\"s2\">&quot;type&quot;</span><span class=\"p\">:</span> <span class=\"s2\">&quot;number&quot;</span>\n",
       "          <span class=\"p\">}</span>\n",
       "        <span class=\"p\">},</span>\n",
       "        <span class=\"s2\">&quot;unit&quot;</span><span class=\"p\">:</span> <span class=\"p\">{</span>\n",
       "          <span class=\"s2\">&quot;title&quot;</span><span class=\"p\">:</span> <span class=\"s2\">&quot;Unit&quot;</span><span class=\"p\">,</span>\n",
       "          <span class=\"s2\">&quot;default&quot;</span><span class=\"p\">:</span> <span class=\"s2\">&quot;unitary&quot;</span><span class=\"p\">,</span>\n",
       "          <span class=\"s2\">&quot;type&quot;</span><span class=\"p\">:</span> <span class=\"s2\">&quot;string&quot;</span>\n",
       "        <span class=\"p\">}</span>\n",
       "      <span class=\"p\">}</span>\n",
       "    <span class=\"p\">},</span>\n",
       "    <span class=\"s2\">&quot;UnitfulValue&quot;</span><span class=\"p\">:</span> <span class=\"p\">{</span>\n",
       "      <span class=\"s2\">&quot;title&quot;</span><span class=\"p\">:</span> <span class=\"s2\">&quot;UnitfulValue&quot;</span><span class=\"p\">,</span>\n",
       "      <span class=\"s2\">&quot;type&quot;</span><span class=\"p\">:</span> <span class=\"s2\">&quot;object&quot;</span><span class=\"p\">,</span>\n",
       "      <span class=\"s2\">&quot;properties&quot;</span><span class=\"p\">:</span> <span class=\"p\">{</span>\n",
       "        <span class=\"s2\">&quot;value&quot;</span><span class=\"p\">:</span> <span class=\"p\">{</span>\n",
       "          <span class=\"s2\">&quot;title&quot;</span><span class=\"p\">:</span> <span class=\"s2\">&quot;Value&quot;</span><span class=\"p\">,</span>\n",
       "          <span class=\"s2\">&quot;type&quot;</span><span class=\"p\">:</span> <span class=\"s2\">&quot;number&quot;</span>\n",
       "        <span class=\"p\">},</span>\n",
       "        <span class=\"s2\">&quot;unit&quot;</span><span class=\"p\">:</span> <span class=\"p\">{</span>\n",
       "          <span class=\"s2\">&quot;title&quot;</span><span class=\"p\">:</span> <span class=\"s2\">&quot;Unit&quot;</span><span class=\"p\">,</span>\n",
       "          <span class=\"s2\">&quot;default&quot;</span><span class=\"p\">:</span> <span class=\"s2\">&quot;unitary&quot;</span><span class=\"p\">,</span>\n",
       "          <span class=\"s2\">&quot;type&quot;</span><span class=\"p\">:</span> <span class=\"s2\">&quot;string&quot;</span>\n",
       "        <span class=\"p\">}</span>\n",
       "      <span class=\"p\">},</span>\n",
       "      <span class=\"s2\">&quot;required&quot;</span><span class=\"p\">:</span> <span class=\"p\">[</span>\n",
       "        <span class=\"s2\">&quot;value&quot;</span>\n",
       "      <span class=\"p\">]</span>\n",
       "    <span class=\"p\">}</span>\n",
       "  <span class=\"p\">}</span>\n",
       "<span class=\"p\">}</span>\n",
       "</pre></div>\n"
      ],
      "text/latex": [
       "\\begin{Verbatim}[commandchars=\\\\\\{\\}]\n",
       "\\PY{p}{\\PYZob{}}\n",
       "  \\PY{l+s+s2}{\\PYZdq{}}\\PY{l+s+s2}{title}\\PY{l+s+s2}{\\PYZdq{}}\\PY{p}{:} \\PY{l+s+s2}{\\PYZdq{}}\\PY{l+s+s2}{Sphere}\\PY{l+s+s2}{\\PYZdq{}}\\PY{p}{,}\n",
       "  \\PY{l+s+s2}{\\PYZdq{}}\\PY{l+s+s2}{type}\\PY{l+s+s2}{\\PYZdq{}}\\PY{p}{:} \\PY{l+s+s2}{\\PYZdq{}}\\PY{l+s+s2}{object}\\PY{l+s+s2}{\\PYZdq{}}\\PY{p}{,}\n",
       "  \\PY{l+s+s2}{\\PYZdq{}}\\PY{l+s+s2}{properties}\\PY{l+s+s2}{\\PYZdq{}}\\PY{p}{:} \\PY{p}{\\PYZob{}}\n",
       "    \\PY{l+s+s2}{\\PYZdq{}}\\PY{l+s+s2}{center}\\PY{l+s+s2}{\\PYZdq{}}\\PY{p}{:} \\PY{p}{\\PYZob{}}\n",
       "      \\PY{l+s+s2}{\\PYZdq{}}\\PY{l+s+s2}{\\PYZdl{}ref}\\PY{l+s+s2}{\\PYZdq{}}\\PY{p}{:} \\PY{l+s+s2}{\\PYZdq{}}\\PY{l+s+s2}{\\PYZsh{}/definitions/UnitfulCoordinate}\\PY{l+s+s2}{\\PYZdq{}}\n",
       "    \\PY{p}{\\PYZcb{}}\\PY{p}{,}\n",
       "    \\PY{l+s+s2}{\\PYZdq{}}\\PY{l+s+s2}{radius}\\PY{l+s+s2}{\\PYZdq{}}\\PY{p}{:} \\PY{p}{\\PYZob{}}\n",
       "      \\PY{l+s+s2}{\\PYZdq{}}\\PY{l+s+s2}{\\PYZdl{}ref}\\PY{l+s+s2}{\\PYZdq{}}\\PY{p}{:} \\PY{l+s+s2}{\\PYZdq{}}\\PY{l+s+s2}{\\PYZsh{}/definitions/UnitfulValue}\\PY{l+s+s2}{\\PYZdq{}}\n",
       "    \\PY{p}{\\PYZcb{}}\n",
       "  \\PY{p}{\\PYZcb{}}\\PY{p}{,}\n",
       "  \\PY{l+s+s2}{\\PYZdq{}}\\PY{l+s+s2}{required}\\PY{l+s+s2}{\\PYZdq{}}\\PY{p}{:} \\PY{p}{[}\n",
       "    \\PY{l+s+s2}{\\PYZdq{}}\\PY{l+s+s2}{center}\\PY{l+s+s2}{\\PYZdq{}}\\PY{p}{,}\n",
       "    \\PY{l+s+s2}{\\PYZdq{}}\\PY{l+s+s2}{radius}\\PY{l+s+s2}{\\PYZdq{}}\n",
       "  \\PY{p}{]}\\PY{p}{,}\n",
       "  \\PY{l+s+s2}{\\PYZdq{}}\\PY{l+s+s2}{definitions}\\PY{l+s+s2}{\\PYZdq{}}\\PY{p}{:} \\PY{p}{\\PYZob{}}\n",
       "    \\PY{l+s+s2}{\\PYZdq{}}\\PY{l+s+s2}{UnitfulCoordinate}\\PY{l+s+s2}{\\PYZdq{}}\\PY{p}{:} \\PY{p}{\\PYZob{}}\n",
       "      \\PY{l+s+s2}{\\PYZdq{}}\\PY{l+s+s2}{title}\\PY{l+s+s2}{\\PYZdq{}}\\PY{p}{:} \\PY{l+s+s2}{\\PYZdq{}}\\PY{l+s+s2}{UnitfulCoordinate}\\PY{l+s+s2}{\\PYZdq{}}\\PY{p}{,}\n",
       "      \\PY{l+s+s2}{\\PYZdq{}}\\PY{l+s+s2}{type}\\PY{l+s+s2}{\\PYZdq{}}\\PY{p}{:} \\PY{l+s+s2}{\\PYZdq{}}\\PY{l+s+s2}{object}\\PY{l+s+s2}{\\PYZdq{}}\\PY{p}{,}\n",
       "      \\PY{l+s+s2}{\\PYZdq{}}\\PY{l+s+s2}{properties}\\PY{l+s+s2}{\\PYZdq{}}\\PY{p}{:} \\PY{p}{\\PYZob{}}\n",
       "        \\PY{l+s+s2}{\\PYZdq{}}\\PY{l+s+s2}{values}\\PY{l+s+s2}{\\PYZdq{}}\\PY{p}{:} \\PY{p}{\\PYZob{}}\n",
       "          \\PY{l+s+s2}{\\PYZdq{}}\\PY{l+s+s2}{title}\\PY{l+s+s2}{\\PYZdq{}}\\PY{p}{:} \\PY{l+s+s2}{\\PYZdq{}}\\PY{l+s+s2}{Values}\\PY{l+s+s2}{\\PYZdq{}}\\PY{p}{,}\n",
       "          \\PY{l+s+s2}{\\PYZdq{}}\\PY{l+s+s2}{default}\\PY{l+s+s2}{\\PYZdq{}}\\PY{p}{:} \\PY{p}{[}\n",
       "            \\PY{l+m+mf}{0.5}\\PY{p}{,}\n",
       "            \\PY{l+m+mf}{0.5}\\PY{p}{,}\n",
       "            \\PY{l+m+mf}{0.5}\n",
       "          \\PY{p}{]}\\PY{p}{,}\n",
       "          \\PY{l+s+s2}{\\PYZdq{}}\\PY{l+s+s2}{minItems}\\PY{l+s+s2}{\\PYZdq{}}\\PY{p}{:} \\PY{l+m+mi}{3}\\PY{p}{,}\n",
       "          \\PY{l+s+s2}{\\PYZdq{}}\\PY{l+s+s2}{maxItems}\\PY{l+s+s2}{\\PYZdq{}}\\PY{p}{:} \\PY{l+m+mi}{3}\\PY{p}{,}\n",
       "          \\PY{l+s+s2}{\\PYZdq{}}\\PY{l+s+s2}{type}\\PY{l+s+s2}{\\PYZdq{}}\\PY{p}{:} \\PY{l+s+s2}{\\PYZdq{}}\\PY{l+s+s2}{array}\\PY{l+s+s2}{\\PYZdq{}}\\PY{p}{,}\n",
       "          \\PY{l+s+s2}{\\PYZdq{}}\\PY{l+s+s2}{items}\\PY{l+s+s2}{\\PYZdq{}}\\PY{p}{:} \\PY{p}{\\PYZob{}}\n",
       "            \\PY{l+s+s2}{\\PYZdq{}}\\PY{l+s+s2}{type}\\PY{l+s+s2}{\\PYZdq{}}\\PY{p}{:} \\PY{l+s+s2}{\\PYZdq{}}\\PY{l+s+s2}{number}\\PY{l+s+s2}{\\PYZdq{}}\n",
       "          \\PY{p}{\\PYZcb{}}\n",
       "        \\PY{p}{\\PYZcb{}}\\PY{p}{,}\n",
       "        \\PY{l+s+s2}{\\PYZdq{}}\\PY{l+s+s2}{unit}\\PY{l+s+s2}{\\PYZdq{}}\\PY{p}{:} \\PY{p}{\\PYZob{}}\n",
       "          \\PY{l+s+s2}{\\PYZdq{}}\\PY{l+s+s2}{title}\\PY{l+s+s2}{\\PYZdq{}}\\PY{p}{:} \\PY{l+s+s2}{\\PYZdq{}}\\PY{l+s+s2}{Unit}\\PY{l+s+s2}{\\PYZdq{}}\\PY{p}{,}\n",
       "          \\PY{l+s+s2}{\\PYZdq{}}\\PY{l+s+s2}{default}\\PY{l+s+s2}{\\PYZdq{}}\\PY{p}{:} \\PY{l+s+s2}{\\PYZdq{}}\\PY{l+s+s2}{unitary}\\PY{l+s+s2}{\\PYZdq{}}\\PY{p}{,}\n",
       "          \\PY{l+s+s2}{\\PYZdq{}}\\PY{l+s+s2}{type}\\PY{l+s+s2}{\\PYZdq{}}\\PY{p}{:} \\PY{l+s+s2}{\\PYZdq{}}\\PY{l+s+s2}{string}\\PY{l+s+s2}{\\PYZdq{}}\n",
       "        \\PY{p}{\\PYZcb{}}\n",
       "      \\PY{p}{\\PYZcb{}}\n",
       "    \\PY{p}{\\PYZcb{}}\\PY{p}{,}\n",
       "    \\PY{l+s+s2}{\\PYZdq{}}\\PY{l+s+s2}{UnitfulValue}\\PY{l+s+s2}{\\PYZdq{}}\\PY{p}{:} \\PY{p}{\\PYZob{}}\n",
       "      \\PY{l+s+s2}{\\PYZdq{}}\\PY{l+s+s2}{title}\\PY{l+s+s2}{\\PYZdq{}}\\PY{p}{:} \\PY{l+s+s2}{\\PYZdq{}}\\PY{l+s+s2}{UnitfulValue}\\PY{l+s+s2}{\\PYZdq{}}\\PY{p}{,}\n",
       "      \\PY{l+s+s2}{\\PYZdq{}}\\PY{l+s+s2}{type}\\PY{l+s+s2}{\\PYZdq{}}\\PY{p}{:} \\PY{l+s+s2}{\\PYZdq{}}\\PY{l+s+s2}{object}\\PY{l+s+s2}{\\PYZdq{}}\\PY{p}{,}\n",
       "      \\PY{l+s+s2}{\\PYZdq{}}\\PY{l+s+s2}{properties}\\PY{l+s+s2}{\\PYZdq{}}\\PY{p}{:} \\PY{p}{\\PYZob{}}\n",
       "        \\PY{l+s+s2}{\\PYZdq{}}\\PY{l+s+s2}{value}\\PY{l+s+s2}{\\PYZdq{}}\\PY{p}{:} \\PY{p}{\\PYZob{}}\n",
       "          \\PY{l+s+s2}{\\PYZdq{}}\\PY{l+s+s2}{title}\\PY{l+s+s2}{\\PYZdq{}}\\PY{p}{:} \\PY{l+s+s2}{\\PYZdq{}}\\PY{l+s+s2}{Value}\\PY{l+s+s2}{\\PYZdq{}}\\PY{p}{,}\n",
       "          \\PY{l+s+s2}{\\PYZdq{}}\\PY{l+s+s2}{type}\\PY{l+s+s2}{\\PYZdq{}}\\PY{p}{:} \\PY{l+s+s2}{\\PYZdq{}}\\PY{l+s+s2}{number}\\PY{l+s+s2}{\\PYZdq{}}\n",
       "        \\PY{p}{\\PYZcb{}}\\PY{p}{,}\n",
       "        \\PY{l+s+s2}{\\PYZdq{}}\\PY{l+s+s2}{unit}\\PY{l+s+s2}{\\PYZdq{}}\\PY{p}{:} \\PY{p}{\\PYZob{}}\n",
       "          \\PY{l+s+s2}{\\PYZdq{}}\\PY{l+s+s2}{title}\\PY{l+s+s2}{\\PYZdq{}}\\PY{p}{:} \\PY{l+s+s2}{\\PYZdq{}}\\PY{l+s+s2}{Unit}\\PY{l+s+s2}{\\PYZdq{}}\\PY{p}{,}\n",
       "          \\PY{l+s+s2}{\\PYZdq{}}\\PY{l+s+s2}{default}\\PY{l+s+s2}{\\PYZdq{}}\\PY{p}{:} \\PY{l+s+s2}{\\PYZdq{}}\\PY{l+s+s2}{unitary}\\PY{l+s+s2}{\\PYZdq{}}\\PY{p}{,}\n",
       "          \\PY{l+s+s2}{\\PYZdq{}}\\PY{l+s+s2}{type}\\PY{l+s+s2}{\\PYZdq{}}\\PY{p}{:} \\PY{l+s+s2}{\\PYZdq{}}\\PY{l+s+s2}{string}\\PY{l+s+s2}{\\PYZdq{}}\n",
       "        \\PY{p}{\\PYZcb{}}\n",
       "      \\PY{p}{\\PYZcb{}}\\PY{p}{,}\n",
       "      \\PY{l+s+s2}{\\PYZdq{}}\\PY{l+s+s2}{required}\\PY{l+s+s2}{\\PYZdq{}}\\PY{p}{:} \\PY{p}{[}\n",
       "        \\PY{l+s+s2}{\\PYZdq{}}\\PY{l+s+s2}{value}\\PY{l+s+s2}{\\PYZdq{}}\n",
       "      \\PY{p}{]}\n",
       "    \\PY{p}{\\PYZcb{}}\n",
       "  \\PY{p}{\\PYZcb{}}\n",
       "\\PY{p}{\\PYZcb{}}\n",
       "\\end{Verbatim}\n"
      ],
      "text/plain": [
       "{\n",
       "  \"title\": \"Sphere\",\n",
       "  \"type\": \"object\",\n",
       "  \"properties\": {\n",
       "    \"center\": {\n",
       "      \"$ref\": \"#/definitions/UnitfulCoordinate\"\n",
       "    },\n",
       "    \"radius\": {\n",
       "      \"$ref\": \"#/definitions/UnitfulValue\"\n",
       "    }\n",
       "  },\n",
       "  \"required\": [\n",
       "    \"center\",\n",
       "    \"radius\"\n",
       "  ],\n",
       "  \"definitions\": {\n",
       "    \"UnitfulCoordinate\": {\n",
       "      \"title\": \"UnitfulCoordinate\",\n",
       "      \"type\": \"object\",\n",
       "      \"properties\": {\n",
       "        \"values\": {\n",
       "          \"title\": \"Values\",\n",
       "          \"default\": [\n",
       "            0.5,\n",
       "            0.5,\n",
       "            0.5\n",
       "          ],\n",
       "          \"minItems\": 3,\n",
       "          \"maxItems\": 3,\n",
       "          \"type\": \"array\",\n",
       "          \"items\": {\n",
       "            \"type\": \"number\"\n",
       "          }\n",
       "        },\n",
       "        \"unit\": {\n",
       "          \"title\": \"Unit\",\n",
       "          \"default\": \"unitary\",\n",
       "          \"type\": \"string\"\n",
       "        }\n",
       "      }\n",
       "    },\n",
       "    \"UnitfulValue\": {\n",
       "      \"title\": \"UnitfulValue\",\n",
       "      \"type\": \"object\",\n",
       "      \"properties\": {\n",
       "        \"value\": {\n",
       "          \"title\": \"Value\",\n",
       "          \"type\": \"number\"\n",
       "        },\n",
       "        \"unit\": {\n",
       "          \"title\": \"Unit\",\n",
       "          \"default\": \"unitary\",\n",
       "          \"type\": \"string\"\n",
       "        }\n",
       "      },\n",
       "      \"required\": [\n",
       "        \"value\"\n",
       "      ]\n",
       "    }\n",
       "  }\n",
       "}"
      ]
     },
     "metadata": {},
     "output_type": "display_data"
    }
   ],
   "source": [
    "from IPython.display import display, Code\n",
    "display(Code(data = schema_sphere.schema_json(indent=2), language=\"python\"))"
   ]
  },
  {
   "cell_type": "markdown",
   "metadata": {},
   "source": [
    "## Future Directions\n",
    "\n",
    "This is the first step to investigating the mental model and code objects, attributes and inter-relationships that are shared across natural science domains including oceanography, climate and weather, neuroscience and geophysics. The JSON schema will be extendable across domains and can be implemented in existing science software tools to support interdisciplinary lines of scientific inquiry with a dynamic and context driven framework. As we investigate how best to capture and encode domain expertise, we hope this work will be a model for future open source development and create a novel avenue for dynamic, and domain agnostic tooling."
   ]
  },
  {
   "cell_type": "markdown",
   "metadata": {},
   "source": [
    "## About the Authors"
   ]
  },
  {
   "cell_type": "markdown",
   "metadata": {},
   "source": [
    "#### Sam Walkow, Informatics PhD Student at the University of Illinois\n",
    "\n",
    "Sam Walkow is a PhD student in Informatics interested in open source software sustainability and culture and data visualization. She's investigating these issues by looking at the intersection of human and computer workflows, problem solving and data conception and representation. \n",
    "\n",
    "#### Contact:\n",
    "- @samwalkow\n",
    "- swalkow2@illinois.edu\n",
    "\n",
    "<img src=\"images/swalkow.jpg\" align=\"left\" width=\"350\"/>"
   ]
  },
  {
   "cell_type": "markdown",
   "metadata": {},
   "source": [
    "#### Matthew Turk, Assitant Professor in School of Information Sciences at the University of Illinois\n",
    "\n",
    "Matthew Turk is an assistant professor in the School of Information Sciences and also holds an appointment with the Department of Astronomy in the College of Liberal Arts and Sciences. His research is focused on how individuals interact with data and how that data is processed and understood.\n",
    "\n",
    "At the University of Illinois, he leads the Data Exploration Lab and teaches in Data Visualization, Data Storytelling, and Computational Astrophysics.\n",
    "\n",
    "\n",
    "##### Contact:\n",
    "\n",
    "[Matthew Turk dot github dot io](https://matthewturk.github.io/)"
   ]
  },
  {
   "cell_type": "markdown",
   "metadata": {},
   "source": [
    "## Acknowledgements\n",
    "\n",
    "We would like to thank major yt contributors including Nathan Goldbaum, and the larger yt community for their sustained effort. \n",
    "\n",
    "We would also like to thank the following entities for their support:\n",
    "\n",
    "- The Gordon and Betty Moore Foundation’s Data-Driven Discovery Initiative through Grant GBMF4561.\n",
    "- The National Science Foundation under Grants OAC-1663914 and ACI-1535651\n",
    "- NumFOCUS\n"
   ]
  },
  {
   "cell_type": "code",
   "execution_count": 11,
   "metadata": {},
   "outputs": [
    {
     "data": {
      "text/html": [
       "<style>\n",
       "@import url('https://fonts.googleapis.com/css?family=Nanum%20Gothic&display=swap');\n",
       "   div.jp-MarkdownOutput {font-family: \"Nanum Gothic\"; font-size: 200%;}\n",
       "</style>\n"
      ],
      "text/plain": [
       "<IPython.core.display.HTML object>"
      ]
     },
     "metadata": {},
     "output_type": "display_data"
    }
   ],
   "source": [
    "%%html\n",
    "<style>\n",
    "@import url('https://fonts.googleapis.com/css?family=Nanum%20Gothic&display=swap');\n",
    "   div.jp-MarkdownOutput {font-family: \"Nanum Gothic\"; font-size: 200%;}\n",
    "</style>"
   ]
  },
  {
   "cell_type": "code",
   "execution_count": null,
   "metadata": {},
   "outputs": [],
   "source": []
  }
 ],
 "metadata": {
  "kernelspec": {
   "display_name": "Python 3",
   "language": "python",
   "name": "python3"
  },
  "language_info": {
   "codemirror_mode": {
    "name": "ipython",
    "version": 3
   },
   "file_extension": ".py",
   "mimetype": "text/x-python",
   "name": "python",
   "nbconvert_exporter": "python",
   "pygments_lexer": "ipython3",
   "version": "3.7.3"
  }
 },
 "nbformat": 4,
 "nbformat_minor": 4
}
